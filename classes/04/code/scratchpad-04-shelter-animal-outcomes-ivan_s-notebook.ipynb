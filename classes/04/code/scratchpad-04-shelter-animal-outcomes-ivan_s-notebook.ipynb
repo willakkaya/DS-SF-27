{
 "cells": [
  {
   "cell_type": "markdown",
   "metadata": {},
   "source": [
    "# DS-SF-27 | Exploratory Data Analysis on Kaggle's Shelter Animal Outcomes Dataset | Ivan's Notebook"
   ]
  },
  {
   "cell_type": "markdown",
   "metadata": {},
   "source": [
    "(dataset from https://www.kaggle.com/c/shelter-animal-outcomes)"
   ]
  },
  {
   "cell_type": "code",
   "execution_count": 1,
   "metadata": {
    "collapsed": true
   },
   "outputs": [],
   "source": [
    "import os\n",
    "\n",
    "import numpy as np\n",
    "\n",
    "import pandas as pd\n",
    "pd.set_option('display.max_rows', 25)\n",
    "pd.set_option('display.notebook_repr_html', True)\n",
    "pd.set_option('display.max_columns', 10)\n",
    "\n",
    "import re"
   ]
  },
  {
   "cell_type": "code",
   "execution_count": 2,
   "metadata": {
    "collapsed": false
   },
   "outputs": [],
   "source": [
    "df = pd.read_csv(os.path.join('..', 'datasets', 'shelter-animal-outcomes.csv.gz'), index_col = 'AnimalID')"
   ]
  },
  {
   "cell_type": "code",
   "execution_count": 3,
   "metadata": {
    "collapsed": false
   },
   "outputs": [
    {
     "data": {
      "text/html": [
       "<div>\n",
       "<table border=\"1\" class=\"dataframe\">\n",
       "  <thead>\n",
       "    <tr style=\"text-align: right;\">\n",
       "      <th></th>\n",
       "      <th>Name</th>\n",
       "      <th>DateTime</th>\n",
       "      <th>OutcomeType</th>\n",
       "      <th>OutcomeSubtype</th>\n",
       "      <th>AnimalType</th>\n",
       "      <th>SexuponOutcome</th>\n",
       "      <th>AgeuponOutcome</th>\n",
       "      <th>Breed</th>\n",
       "      <th>Color</th>\n",
       "    </tr>\n",
       "    <tr>\n",
       "      <th>AnimalID</th>\n",
       "      <th></th>\n",
       "      <th></th>\n",
       "      <th></th>\n",
       "      <th></th>\n",
       "      <th></th>\n",
       "      <th></th>\n",
       "      <th></th>\n",
       "      <th></th>\n",
       "      <th></th>\n",
       "    </tr>\n",
       "  </thead>\n",
       "  <tbody>\n",
       "    <tr>\n",
       "      <th>A671945</th>\n",
       "      <td>Hambone</td>\n",
       "      <td>2014-02-12 18:22:00</td>\n",
       "      <td>Return_to_owner</td>\n",
       "      <td>NaN</td>\n",
       "      <td>Dog</td>\n",
       "      <td>Neutered Male</td>\n",
       "      <td>1 year</td>\n",
       "      <td>Shetland Sheepdog Mix</td>\n",
       "      <td>Brown/White</td>\n",
       "    </tr>\n",
       "    <tr>\n",
       "      <th>A656520</th>\n",
       "      <td>Emily</td>\n",
       "      <td>2013-10-13 12:44:00</td>\n",
       "      <td>Euthanasia</td>\n",
       "      <td>Suffering</td>\n",
       "      <td>Cat</td>\n",
       "      <td>Spayed Female</td>\n",
       "      <td>1 year</td>\n",
       "      <td>Domestic Shorthair Mix</td>\n",
       "      <td>Cream Tabby</td>\n",
       "    </tr>\n",
       "    <tr>\n",
       "      <th>A686464</th>\n",
       "      <td>Pearce</td>\n",
       "      <td>2015-01-31 12:28:00</td>\n",
       "      <td>Adoption</td>\n",
       "      <td>Foster</td>\n",
       "      <td>Dog</td>\n",
       "      <td>Neutered Male</td>\n",
       "      <td>2 years</td>\n",
       "      <td>Pit Bull Mix</td>\n",
       "      <td>Blue/White</td>\n",
       "    </tr>\n",
       "    <tr>\n",
       "      <th>A683430</th>\n",
       "      <td>NaN</td>\n",
       "      <td>2014-07-11 19:09:00</td>\n",
       "      <td>Transfer</td>\n",
       "      <td>Partner</td>\n",
       "      <td>Cat</td>\n",
       "      <td>Intact Male</td>\n",
       "      <td>3 weeks</td>\n",
       "      <td>Domestic Shorthair Mix</td>\n",
       "      <td>Blue Cream</td>\n",
       "    </tr>\n",
       "    <tr>\n",
       "      <th>A667013</th>\n",
       "      <td>NaN</td>\n",
       "      <td>2013-11-15 12:52:00</td>\n",
       "      <td>Transfer</td>\n",
       "      <td>Partner</td>\n",
       "      <td>Dog</td>\n",
       "      <td>Neutered Male</td>\n",
       "      <td>2 years</td>\n",
       "      <td>Lhasa Apso/Miniature Poodle</td>\n",
       "      <td>Tan</td>\n",
       "    </tr>\n",
       "    <tr>\n",
       "      <th>A677334</th>\n",
       "      <td>Elsa</td>\n",
       "      <td>2014-04-25 13:04:00</td>\n",
       "      <td>Transfer</td>\n",
       "      <td>Partner</td>\n",
       "      <td>Dog</td>\n",
       "      <td>Intact Female</td>\n",
       "      <td>1 month</td>\n",
       "      <td>Cairn Terrier/Chihuahua Shorthair</td>\n",
       "      <td>Black/Tan</td>\n",
       "    </tr>\n",
       "    <tr>\n",
       "      <th>A699218</th>\n",
       "      <td>Jimmy</td>\n",
       "      <td>2015-03-28 13:11:00</td>\n",
       "      <td>Transfer</td>\n",
       "      <td>Partner</td>\n",
       "      <td>Cat</td>\n",
       "      <td>Intact Male</td>\n",
       "      <td>3 weeks</td>\n",
       "      <td>Domestic Shorthair Mix</td>\n",
       "      <td>Blue Tabby</td>\n",
       "    </tr>\n",
       "    <tr>\n",
       "      <th>A701489</th>\n",
       "      <td>NaN</td>\n",
       "      <td>2015-04-30 17:02:00</td>\n",
       "      <td>Transfer</td>\n",
       "      <td>Partner</td>\n",
       "      <td>Cat</td>\n",
       "      <td>Unknown</td>\n",
       "      <td>3 weeks</td>\n",
       "      <td>Domestic Shorthair Mix</td>\n",
       "      <td>Brown Tabby</td>\n",
       "    </tr>\n",
       "    <tr>\n",
       "      <th>A671784</th>\n",
       "      <td>Lucy</td>\n",
       "      <td>2014-02-04 17:17:00</td>\n",
       "      <td>Adoption</td>\n",
       "      <td>NaN</td>\n",
       "      <td>Dog</td>\n",
       "      <td>Spayed Female</td>\n",
       "      <td>5 months</td>\n",
       "      <td>American Pit Bull Terrier Mix</td>\n",
       "      <td>Red/White</td>\n",
       "    </tr>\n",
       "    <tr>\n",
       "      <th>A677747</th>\n",
       "      <td>NaN</td>\n",
       "      <td>2014-05-03 07:48:00</td>\n",
       "      <td>Adoption</td>\n",
       "      <td>Offsite</td>\n",
       "      <td>Dog</td>\n",
       "      <td>Spayed Female</td>\n",
       "      <td>1 year</td>\n",
       "      <td>Cairn Terrier</td>\n",
       "      <td>White</td>\n",
       "    </tr>\n",
       "    <tr>\n",
       "      <th>A668402</th>\n",
       "      <td>NaN</td>\n",
       "      <td>2013-12-05 15:50:00</td>\n",
       "      <td>Transfer</td>\n",
       "      <td>SCRP</td>\n",
       "      <td>Cat</td>\n",
       "      <td>Unknown</td>\n",
       "      <td>2 years</td>\n",
       "      <td>Domestic Shorthair Mix</td>\n",
       "      <td>Black</td>\n",
       "    </tr>\n",
       "    <tr>\n",
       "      <th>A666320</th>\n",
       "      <td>NaN</td>\n",
       "      <td>2013-11-04 14:48:00</td>\n",
       "      <td>Adoption</td>\n",
       "      <td>NaN</td>\n",
       "      <td>Dog</td>\n",
       "      <td>Spayed Female</td>\n",
       "      <td>2 years</td>\n",
       "      <td>Miniature Schnauzer Mix</td>\n",
       "      <td>Silver</td>\n",
       "    </tr>\n",
       "    <tr>\n",
       "      <th>...</th>\n",
       "      <td>...</td>\n",
       "      <td>...</td>\n",
       "      <td>...</td>\n",
       "      <td>...</td>\n",
       "      <td>...</td>\n",
       "      <td>...</td>\n",
       "      <td>...</td>\n",
       "      <td>...</td>\n",
       "      <td>...</td>\n",
       "    </tr>\n",
       "    <tr>\n",
       "      <th>A519949</th>\n",
       "      <td>Bella</td>\n",
       "      <td>2014-06-30 17:34:00</td>\n",
       "      <td>Return_to_owner</td>\n",
       "      <td>NaN</td>\n",
       "      <td>Dog</td>\n",
       "      <td>Spayed Female</td>\n",
       "      <td>9 years</td>\n",
       "      <td>Bullmastiff Mix</td>\n",
       "      <td>Black</td>\n",
       "    </tr>\n",
       "    <tr>\n",
       "      <th>A701044</th>\n",
       "      <td>NaN</td>\n",
       "      <td>2015-04-28 14:26:00</td>\n",
       "      <td>Adoption</td>\n",
       "      <td>NaN</td>\n",
       "      <td>Dog</td>\n",
       "      <td>Neutered Male</td>\n",
       "      <td>2 months</td>\n",
       "      <td>Siberian Husky/German Shepherd</td>\n",
       "      <td>Black/Tricolor</td>\n",
       "    </tr>\n",
       "    <tr>\n",
       "      <th>A707871</th>\n",
       "      <td>NaN</td>\n",
       "      <td>2015-07-20 09:00:00</td>\n",
       "      <td>Transfer</td>\n",
       "      <td>SCRP</td>\n",
       "      <td>Cat</td>\n",
       "      <td>Unknown</td>\n",
       "      <td>2 years</td>\n",
       "      <td>Domestic Shorthair Mix</td>\n",
       "      <td>Brown Tabby/White</td>\n",
       "    </tr>\n",
       "    <tr>\n",
       "      <th>A704405</th>\n",
       "      <td>Brownie</td>\n",
       "      <td>2015-07-18 14:08:00</td>\n",
       "      <td>Adoption</td>\n",
       "      <td>NaN</td>\n",
       "      <td>Cat</td>\n",
       "      <td>Spayed Female</td>\n",
       "      <td>2 months</td>\n",
       "      <td>Domestic Shorthair Mix</td>\n",
       "      <td>Brown Tabby</td>\n",
       "    </tr>\n",
       "    <tr>\n",
       "      <th>A662019</th>\n",
       "      <td>Green Bean</td>\n",
       "      <td>2014-07-17 09:43:00</td>\n",
       "      <td>Adoption</td>\n",
       "      <td>Foster</td>\n",
       "      <td>Cat</td>\n",
       "      <td>Spayed Female</td>\n",
       "      <td>5 years</td>\n",
       "      <td>Domestic Shorthair Mix</td>\n",
       "      <td>Black</td>\n",
       "    </tr>\n",
       "    <tr>\n",
       "      <th>A687056</th>\n",
       "      <td>NaN</td>\n",
       "      <td>2014-08-31 09:00:00</td>\n",
       "      <td>Transfer</td>\n",
       "      <td>SCRP</td>\n",
       "      <td>Cat</td>\n",
       "      <td>Intact Male</td>\n",
       "      <td>5 months</td>\n",
       "      <td>Domestic Shorthair Mix</td>\n",
       "      <td>Orange Tabby</td>\n",
       "    </tr>\n",
       "    <tr>\n",
       "      <th>A716997</th>\n",
       "      <td>Zeus</td>\n",
       "      <td>2016-01-29 18:52:00</td>\n",
       "      <td>Adoption</td>\n",
       "      <td>NaN</td>\n",
       "      <td>Dog</td>\n",
       "      <td>Neutered Male</td>\n",
       "      <td>6 years</td>\n",
       "      <td>Staffordshire Mix</td>\n",
       "      <td>Blue/White</td>\n",
       "    </tr>\n",
       "    <tr>\n",
       "      <th>A702446</th>\n",
       "      <td>NaN</td>\n",
       "      <td>2015-05-14 11:56:00</td>\n",
       "      <td>Transfer</td>\n",
       "      <td>Partner</td>\n",
       "      <td>Cat</td>\n",
       "      <td>Intact Male</td>\n",
       "      <td>1 month</td>\n",
       "      <td>Domestic Shorthair Mix</td>\n",
       "      <td>Brown Tabby/White</td>\n",
       "    </tr>\n",
       "    <tr>\n",
       "      <th>A718934</th>\n",
       "      <td>NaN</td>\n",
       "      <td>2016-01-20 18:59:00</td>\n",
       "      <td>Transfer</td>\n",
       "      <td>SCRP</td>\n",
       "      <td>Cat</td>\n",
       "      <td>Spayed Female</td>\n",
       "      <td>3 months</td>\n",
       "      <td>Domestic Shorthair Mix</td>\n",
       "      <td>Brown Tabby</td>\n",
       "    </tr>\n",
       "    <tr>\n",
       "      <th>A698128</th>\n",
       "      <td>Zeus</td>\n",
       "      <td>2015-03-09 13:33:00</td>\n",
       "      <td>Adoption</td>\n",
       "      <td>NaN</td>\n",
       "      <td>Dog</td>\n",
       "      <td>Neutered Male</td>\n",
       "      <td>4 years</td>\n",
       "      <td>Old English Bulldog Mix</td>\n",
       "      <td>White/Tan</td>\n",
       "    </tr>\n",
       "    <tr>\n",
       "      <th>A677478</th>\n",
       "      <td>NaN</td>\n",
       "      <td>2014-04-27 12:22:00</td>\n",
       "      <td>Transfer</td>\n",
       "      <td>Partner</td>\n",
       "      <td>Cat</td>\n",
       "      <td>Intact Male</td>\n",
       "      <td>4 weeks</td>\n",
       "      <td>Domestic Shorthair Mix</td>\n",
       "      <td>Black</td>\n",
       "    </tr>\n",
       "    <tr>\n",
       "      <th>A706629</th>\n",
       "      <td>NaN</td>\n",
       "      <td>2015-07-02 09:00:00</td>\n",
       "      <td>Transfer</td>\n",
       "      <td>SCRP</td>\n",
       "      <td>Cat</td>\n",
       "      <td>Intact Male</td>\n",
       "      <td>1 year</td>\n",
       "      <td>Domestic Shorthair Mix</td>\n",
       "      <td>Brown Tabby/White</td>\n",
       "    </tr>\n",
       "  </tbody>\n",
       "</table>\n",
       "<p>26729 rows × 9 columns</p>\n",
       "</div>"
      ],
      "text/plain": [
       "                Name             DateTime      OutcomeType OutcomeSubtype  \\\n",
       "AnimalID                                                                    \n",
       "A671945      Hambone  2014-02-12 18:22:00  Return_to_owner            NaN   \n",
       "A656520        Emily  2013-10-13 12:44:00       Euthanasia      Suffering   \n",
       "A686464       Pearce  2015-01-31 12:28:00         Adoption         Foster   \n",
       "A683430          NaN  2014-07-11 19:09:00         Transfer        Partner   \n",
       "A667013          NaN  2013-11-15 12:52:00         Transfer        Partner   \n",
       "A677334         Elsa  2014-04-25 13:04:00         Transfer        Partner   \n",
       "A699218        Jimmy  2015-03-28 13:11:00         Transfer        Partner   \n",
       "A701489          NaN  2015-04-30 17:02:00         Transfer        Partner   \n",
       "A671784         Lucy  2014-02-04 17:17:00         Adoption            NaN   \n",
       "A677747          NaN  2014-05-03 07:48:00         Adoption        Offsite   \n",
       "A668402          NaN  2013-12-05 15:50:00         Transfer           SCRP   \n",
       "A666320          NaN  2013-11-04 14:48:00         Adoption            NaN   \n",
       "...              ...                  ...              ...            ...   \n",
       "A519949        Bella  2014-06-30 17:34:00  Return_to_owner            NaN   \n",
       "A701044          NaN  2015-04-28 14:26:00         Adoption            NaN   \n",
       "A707871          NaN  2015-07-20 09:00:00         Transfer           SCRP   \n",
       "A704405      Brownie  2015-07-18 14:08:00         Adoption            NaN   \n",
       "A662019   Green Bean  2014-07-17 09:43:00         Adoption         Foster   \n",
       "A687056          NaN  2014-08-31 09:00:00         Transfer           SCRP   \n",
       "A716997         Zeus  2016-01-29 18:52:00         Adoption            NaN   \n",
       "A702446          NaN  2015-05-14 11:56:00         Transfer        Partner   \n",
       "A718934          NaN  2016-01-20 18:59:00         Transfer           SCRP   \n",
       "A698128         Zeus  2015-03-09 13:33:00         Adoption            NaN   \n",
       "A677478          NaN  2014-04-27 12:22:00         Transfer        Partner   \n",
       "A706629          NaN  2015-07-02 09:00:00         Transfer           SCRP   \n",
       "\n",
       "         AnimalType SexuponOutcome AgeuponOutcome  \\\n",
       "AnimalID                                            \n",
       "A671945         Dog  Neutered Male         1 year   \n",
       "A656520         Cat  Spayed Female         1 year   \n",
       "A686464         Dog  Neutered Male        2 years   \n",
       "A683430         Cat    Intact Male        3 weeks   \n",
       "A667013         Dog  Neutered Male        2 years   \n",
       "A677334         Dog  Intact Female        1 month   \n",
       "A699218         Cat    Intact Male        3 weeks   \n",
       "A701489         Cat        Unknown        3 weeks   \n",
       "A671784         Dog  Spayed Female       5 months   \n",
       "A677747         Dog  Spayed Female         1 year   \n",
       "A668402         Cat        Unknown        2 years   \n",
       "A666320         Dog  Spayed Female        2 years   \n",
       "...             ...            ...            ...   \n",
       "A519949         Dog  Spayed Female        9 years   \n",
       "A701044         Dog  Neutered Male       2 months   \n",
       "A707871         Cat        Unknown        2 years   \n",
       "A704405         Cat  Spayed Female       2 months   \n",
       "A662019         Cat  Spayed Female        5 years   \n",
       "A687056         Cat    Intact Male       5 months   \n",
       "A716997         Dog  Neutered Male        6 years   \n",
       "A702446         Cat    Intact Male        1 month   \n",
       "A718934         Cat  Spayed Female       3 months   \n",
       "A698128         Dog  Neutered Male        4 years   \n",
       "A677478         Cat    Intact Male        4 weeks   \n",
       "A706629         Cat    Intact Male         1 year   \n",
       "\n",
       "                                      Breed              Color  \n",
       "AnimalID                                                        \n",
       "A671945               Shetland Sheepdog Mix        Brown/White  \n",
       "A656520              Domestic Shorthair Mix        Cream Tabby  \n",
       "A686464                        Pit Bull Mix         Blue/White  \n",
       "A683430              Domestic Shorthair Mix         Blue Cream  \n",
       "A667013         Lhasa Apso/Miniature Poodle                Tan  \n",
       "A677334   Cairn Terrier/Chihuahua Shorthair          Black/Tan  \n",
       "A699218              Domestic Shorthair Mix         Blue Tabby  \n",
       "A701489              Domestic Shorthair Mix        Brown Tabby  \n",
       "A671784       American Pit Bull Terrier Mix          Red/White  \n",
       "A677747                       Cairn Terrier              White  \n",
       "A668402              Domestic Shorthair Mix              Black  \n",
       "A666320             Miniature Schnauzer Mix             Silver  \n",
       "...                                     ...                ...  \n",
       "A519949                     Bullmastiff Mix              Black  \n",
       "A701044      Siberian Husky/German Shepherd     Black/Tricolor  \n",
       "A707871              Domestic Shorthair Mix  Brown Tabby/White  \n",
       "A704405              Domestic Shorthair Mix        Brown Tabby  \n",
       "A662019              Domestic Shorthair Mix              Black  \n",
       "A687056              Domestic Shorthair Mix       Orange Tabby  \n",
       "A716997                   Staffordshire Mix         Blue/White  \n",
       "A702446              Domestic Shorthair Mix  Brown Tabby/White  \n",
       "A718934              Domestic Shorthair Mix        Brown Tabby  \n",
       "A698128             Old English Bulldog Mix          White/Tan  \n",
       "A677478              Domestic Shorthair Mix              Black  \n",
       "A706629              Domestic Shorthair Mix  Brown Tabby/White  \n",
       "\n",
       "[26729 rows x 9 columns]"
      ]
     },
     "execution_count": 3,
     "metadata": {},
     "output_type": "execute_result"
    }
   ],
   "source": [
    "df"
   ]
  },
  {
   "cell_type": "code",
   "execution_count": 4,
   "metadata": {
    "collapsed": false
   },
   "outputs": [
    {
     "data": {
      "text/plain": [
       "(26729, 9)"
      ]
     },
     "execution_count": 4,
     "metadata": {},
     "output_type": "execute_result"
    }
   ],
   "source": [
    "df.shape"
   ]
  },
  {
   "cell_type": "code",
   "execution_count": 5,
   "metadata": {
    "collapsed": false
   },
   "outputs": [
    {
     "data": {
      "text/plain": [
       "Index([u'Name', u'DateTime', u'OutcomeType', u'OutcomeSubtype', u'AnimalType',\n",
       "       u'SexuponOutcome', u'AgeuponOutcome', u'Breed', u'Color'],\n",
       "      dtype='object')"
      ]
     },
     "execution_count": 5,
     "metadata": {},
     "output_type": "execute_result"
    }
   ],
   "source": [
    "df.columns"
   ]
  },
  {
   "cell_type": "markdown",
   "metadata": {},
   "source": [
    "## `Name`"
   ]
  },
  {
   "cell_type": "code",
   "execution_count": 6,
   "metadata": {
    "collapsed": false
   },
   "outputs": [
    {
     "data": {
      "text/plain": [
       "array(['Hambone', 'Emily', 'Pearce', ..., 'Mowmow', 'Sonja', 'Green Bean'], dtype=object)"
      ]
     },
     "execution_count": 6,
     "metadata": {},
     "output_type": "execute_result"
    }
   ],
   "source": [
    "df.Name.unique()"
   ]
  },
  {
   "cell_type": "code",
   "execution_count": 7,
   "metadata": {
    "collapsed": false
   },
   "outputs": [
    {
     "data": {
      "text/plain": [
       "Max            136\n",
       "Bella          135\n",
       "Charlie        107\n",
       "Daisy          106\n",
       "Lucy            94\n",
       "Buddy           87\n",
       "Princess        86\n",
       "Rocky           85\n",
       "Luna            68\n",
       "Jack            66\n",
       "Lola            61\n",
       "Sadie           58\n",
       "              ... \n",
       "Guru Ramdas      1\n",
       "Mr.Cookie        1\n",
       "Tabs             1\n",
       "Eedo             1\n",
       "Marlyin          1\n",
       "Meerkat          1\n",
       "Tugga            1\n",
       "Sally Jessy      1\n",
       "Nelda            1\n",
       "Hobie Cat        1\n",
       "Madi             1\n",
       "Sumi             1\n",
       "Name: Name, dtype: int64"
      ]
     },
     "execution_count": 7,
     "metadata": {},
     "output_type": "execute_result"
    }
   ],
   "source": [
    "df.Name.value_counts()"
   ]
  },
  {
   "cell_type": "markdown",
   "metadata": {},
   "source": [
    "> By default, `value_counts()` doesn't include counts of `NaN`."
   ]
  },
  {
   "cell_type": "code",
   "execution_count": 8,
   "metadata": {
    "collapsed": false
   },
   "outputs": [
    {
     "data": {
      "text/plain": [
       "NaN            7691\n",
       "Max             136\n",
       "Bella           135\n",
       "Charlie         107\n",
       "Daisy           106\n",
       "Lucy             94\n",
       "Buddy            87\n",
       "Princess         86\n",
       "Rocky            85\n",
       "Luna             68\n",
       "Jack             66\n",
       "Lola             61\n",
       "               ... \n",
       "Mr.Cookie         1\n",
       "Tabs              1\n",
       "Eedo              1\n",
       "Marlyin           1\n",
       "Meerkat           1\n",
       "Tugga             1\n",
       "Sally Jessy       1\n",
       "Nelda             1\n",
       "Hobie Cat         1\n",
       "Madi              1\n",
       "Moscato           1\n",
       "Sumi              1\n",
       "Name: Name, dtype: int64"
      ]
     },
     "execution_count": 8,
     "metadata": {},
     "output_type": "execute_result"
    }
   ],
   "source": [
    "df.Name.value_counts(dropna = False)"
   ]
  },
  {
   "cell_type": "markdown",
   "metadata": {},
   "source": [
    "## `DateTime`"
   ]
  },
  {
   "cell_type": "code",
   "execution_count": 9,
   "metadata": {
    "collapsed": false
   },
   "outputs": [
    {
     "data": {
      "text/plain": [
       "AnimalID\n",
       "A671945    2014-02-12 18:22:00\n",
       "A656520    2013-10-13 12:44:00\n",
       "A686464    2015-01-31 12:28:00\n",
       "A683430    2014-07-11 19:09:00\n",
       "A667013    2013-11-15 12:52:00\n",
       "A677334    2014-04-25 13:04:00\n",
       "A699218    2015-03-28 13:11:00\n",
       "A701489    2015-04-30 17:02:00\n",
       "A671784    2014-02-04 17:17:00\n",
       "A677747    2014-05-03 07:48:00\n",
       "A668402    2013-12-05 15:50:00\n",
       "A666320    2013-11-04 14:48:00\n",
       "                  ...         \n",
       "A519949    2014-06-30 17:34:00\n",
       "A701044    2015-04-28 14:26:00\n",
       "A707871    2015-07-20 09:00:00\n",
       "A704405    2015-07-18 14:08:00\n",
       "A662019    2014-07-17 09:43:00\n",
       "A687056    2014-08-31 09:00:00\n",
       "A716997    2016-01-29 18:52:00\n",
       "A702446    2015-05-14 11:56:00\n",
       "A718934    2016-01-20 18:59:00\n",
       "A698128    2015-03-09 13:33:00\n",
       "A677478    2014-04-27 12:22:00\n",
       "A706629    2015-07-02 09:00:00\n",
       "Name: DateTime, dtype: object"
      ]
     },
     "execution_count": 9,
     "metadata": {},
     "output_type": "execute_result"
    }
   ],
   "source": [
    "df.DateTime"
   ]
  },
  {
   "cell_type": "code",
   "execution_count": 10,
   "metadata": {
    "collapsed": false
   },
   "outputs": [
    {
     "data": {
      "text/plain": [
       "'2015-07-02 09:00:00'"
      ]
     },
     "execution_count": 10,
     "metadata": {},
     "output_type": "execute_result"
    }
   ],
   "source": [
    "df.DateTime[-1]"
   ]
  },
  {
   "cell_type": "code",
   "execution_count": 11,
   "metadata": {
    "collapsed": false
   },
   "outputs": [
    {
     "data": {
      "text/plain": [
       "str"
      ]
     },
     "execution_count": 11,
     "metadata": {},
     "output_type": "execute_result"
    }
   ],
   "source": [
    "type(df.DateTime[-1])"
   ]
  },
  {
   "cell_type": "markdown",
   "metadata": {},
   "source": [
    "> `DateTime` is composed of strings."
   ]
  },
  {
   "cell_type": "code",
   "execution_count": 12,
   "metadata": {
    "collapsed": true
   },
   "outputs": [],
   "source": [
    "datetime_as_string = '2015-07-02 09:00:00'"
   ]
  },
  {
   "cell_type": "markdown",
   "metadata": {},
   "source": [
    "> Let's convert these strings into a Date/Time format we can easily query."
   ]
  },
  {
   "cell_type": "code",
   "execution_count": 13,
   "metadata": {
    "collapsed": false
   },
   "outputs": [],
   "source": [
    "datetime_as_timestamp = pd.to_datetime(datetime_as_string)"
   ]
  },
  {
   "cell_type": "code",
   "execution_count": 14,
   "metadata": {
    "collapsed": false
   },
   "outputs": [
    {
     "data": {
      "text/plain": [
       "Timestamp('2015-07-02 09:00:00')"
      ]
     },
     "execution_count": 14,
     "metadata": {},
     "output_type": "execute_result"
    }
   ],
   "source": [
    "datetime_as_timestamp"
   ]
  },
  {
   "cell_type": "code",
   "execution_count": 15,
   "metadata": {
    "collapsed": false
   },
   "outputs": [
    {
     "data": {
      "text/plain": [
       "pandas.tslib.Timestamp"
      ]
     },
     "execution_count": 15,
     "metadata": {},
     "output_type": "execute_result"
    }
   ],
   "source": [
    "type(datetime_as_timestamp)"
   ]
  },
  {
   "cell_type": "code",
   "execution_count": 16,
   "metadata": {
    "collapsed": false
   },
   "outputs": [
    {
     "data": {
      "text/plain": [
       "2015"
      ]
     },
     "execution_count": 16,
     "metadata": {},
     "output_type": "execute_result"
    }
   ],
   "source": [
    "datetime_as_timestamp.year"
   ]
  },
  {
   "cell_type": "code",
   "execution_count": 17,
   "metadata": {
    "collapsed": false
   },
   "outputs": [
    {
     "data": {
      "text/plain": [
       "7"
      ]
     },
     "execution_count": 17,
     "metadata": {},
     "output_type": "execute_result"
    }
   ],
   "source": [
    "datetime_as_timestamp.month"
   ]
  },
  {
   "cell_type": "code",
   "execution_count": 18,
   "metadata": {
    "collapsed": false
   },
   "outputs": [
    {
     "data": {
      "text/plain": [
       "2"
      ]
     },
     "execution_count": 18,
     "metadata": {},
     "output_type": "execute_result"
    }
   ],
   "source": [
    "datetime_as_timestamp.day"
   ]
  },
  {
   "cell_type": "code",
   "execution_count": 19,
   "metadata": {
    "collapsed": false
   },
   "outputs": [
    {
     "data": {
      "text/plain": [
       "9"
      ]
     },
     "execution_count": 19,
     "metadata": {},
     "output_type": "execute_result"
    }
   ],
   "source": [
    "datetime_as_timestamp.hour"
   ]
  },
  {
   "cell_type": "code",
   "execution_count": 20,
   "metadata": {
    "collapsed": false
   },
   "outputs": [
    {
     "data": {
      "text/plain": [
       "0"
      ]
     },
     "execution_count": 20,
     "metadata": {},
     "output_type": "execute_result"
    }
   ],
   "source": [
    "datetime_as_timestamp.minute"
   ]
  },
  {
   "cell_type": "code",
   "execution_count": 21,
   "metadata": {
    "collapsed": false
   },
   "outputs": [
    {
     "data": {
      "text/plain": [
       "0"
      ]
     },
     "execution_count": 21,
     "metadata": {},
     "output_type": "execute_result"
    }
   ],
   "source": [
    "datetime_as_timestamp.second"
   ]
  },
  {
   "cell_type": "code",
   "execution_count": 22,
   "metadata": {
    "collapsed": false
   },
   "outputs": [
    {
     "data": {
      "text/plain": [
       "AnimalID\n",
       "A671945   2014-02-12 18:22:00\n",
       "A656520   2013-10-13 12:44:00\n",
       "A686464   2015-01-31 12:28:00\n",
       "A683430   2014-07-11 19:09:00\n",
       "A667013   2013-11-15 12:52:00\n",
       "A677334   2014-04-25 13:04:00\n",
       "A699218   2015-03-28 13:11:00\n",
       "A701489   2015-04-30 17:02:00\n",
       "A671784   2014-02-04 17:17:00\n",
       "A677747   2014-05-03 07:48:00\n",
       "A668402   2013-12-05 15:50:00\n",
       "A666320   2013-11-04 14:48:00\n",
       "                  ...        \n",
       "A519949   2014-06-30 17:34:00\n",
       "A701044   2015-04-28 14:26:00\n",
       "A707871   2015-07-20 09:00:00\n",
       "A704405   2015-07-18 14:08:00\n",
       "A662019   2014-07-17 09:43:00\n",
       "A687056   2014-08-31 09:00:00\n",
       "A716997   2016-01-29 18:52:00\n",
       "A702446   2015-05-14 11:56:00\n",
       "A718934   2016-01-20 18:59:00\n",
       "A698128   2015-03-09 13:33:00\n",
       "A677478   2014-04-27 12:22:00\n",
       "A706629   2015-07-02 09:00:00\n",
       "Name: DateTime, dtype: datetime64[ns]"
      ]
     },
     "execution_count": 22,
     "metadata": {},
     "output_type": "execute_result"
    }
   ],
   "source": [
    "pd.to_datetime(df.DateTime)"
   ]
  },
  {
   "cell_type": "code",
   "execution_count": 23,
   "metadata": {
    "collapsed": true
   },
   "outputs": [],
   "source": [
    "df.DateTime = pd.to_datetime(df.DateTime)"
   ]
  },
  {
   "cell_type": "code",
   "execution_count": 24,
   "metadata": {
    "collapsed": false
   },
   "outputs": [
    {
     "data": {
      "text/plain": [
       "Timestamp('2015-07-02 09:00:00')"
      ]
     },
     "execution_count": 24,
     "metadata": {},
     "output_type": "execute_result"
    }
   ],
   "source": [
    "df.DateTime[-1]"
   ]
  },
  {
   "cell_type": "code",
   "execution_count": 25,
   "metadata": {
    "collapsed": false
   },
   "outputs": [
    {
     "data": {
      "text/plain": [
       "pandas.tslib.Timestamp"
      ]
     },
     "execution_count": 25,
     "metadata": {},
     "output_type": "execute_result"
    }
   ],
   "source": [
    "type(df.DateTime[-1])"
   ]
  },
  {
   "cell_type": "markdown",
   "metadata": {},
   "source": [
    "## `OutcomeType` and `OutcomeSubtype`"
   ]
  },
  {
   "cell_type": "markdown",
   "metadata": {},
   "source": [
    "### `OutcomeType`"
   ]
  },
  {
   "cell_type": "code",
   "execution_count": 26,
   "metadata": {
    "collapsed": false
   },
   "outputs": [
    {
     "data": {
      "text/plain": [
       "AnimalID\n",
       "A671945    Return_to_owner\n",
       "A656520         Euthanasia\n",
       "A686464           Adoption\n",
       "A683430           Transfer\n",
       "A667013           Transfer\n",
       "A677334           Transfer\n",
       "A699218           Transfer\n",
       "A701489           Transfer\n",
       "A671784           Adoption\n",
       "A677747           Adoption\n",
       "A668402           Transfer\n",
       "A666320           Adoption\n",
       "                ...       \n",
       "A519949    Return_to_owner\n",
       "A701044           Adoption\n",
       "A707871           Transfer\n",
       "A704405           Adoption\n",
       "A662019           Adoption\n",
       "A687056           Transfer\n",
       "A716997           Adoption\n",
       "A702446           Transfer\n",
       "A718934           Transfer\n",
       "A698128           Adoption\n",
       "A677478           Transfer\n",
       "A706629           Transfer\n",
       "Name: OutcomeType, dtype: object"
      ]
     },
     "execution_count": 26,
     "metadata": {},
     "output_type": "execute_result"
    }
   ],
   "source": [
    "df.OutcomeType"
   ]
  },
  {
   "cell_type": "code",
   "execution_count": 27,
   "metadata": {
    "collapsed": false
   },
   "outputs": [
    {
     "data": {
      "text/plain": [
       "array(['Return_to_owner', 'Euthanasia', 'Adoption', 'Transfer', 'Died'], dtype=object)"
      ]
     },
     "execution_count": 27,
     "metadata": {},
     "output_type": "execute_result"
    }
   ],
   "source": [
    "df.OutcomeType.unique()"
   ]
  },
  {
   "cell_type": "code",
   "execution_count": 28,
   "metadata": {
    "collapsed": false
   },
   "outputs": [
    {
     "data": {
      "text/plain": [
       "Adoption           10769\n",
       "Transfer            9422\n",
       "Return_to_owner     4786\n",
       "Euthanasia          1555\n",
       "Died                 197\n",
       "Name: OutcomeType, dtype: int64"
      ]
     },
     "execution_count": 28,
     "metadata": {},
     "output_type": "execute_result"
    }
   ],
   "source": [
    "df.OutcomeType.value_counts()"
   ]
  },
  {
   "cell_type": "markdown",
   "metadata": {},
   "source": [
    "> To illustrate the use of `apply`, let's convert every occurrence of 'Return_to_owner' or 'ReturnToOwner'."
   ]
  },
  {
   "cell_type": "code",
   "execution_count": 29,
   "metadata": {
    "collapsed": false
   },
   "outputs": [],
   "source": [
    "df.OutcomeType = df.OutcomeType.\\\n",
    "    apply(lambda outcome_type: 'ReturnToOwner' if outcome_type == 'Return_to_owner' else outcome_type)"
   ]
  },
  {
   "cell_type": "code",
   "execution_count": 30,
   "metadata": {
    "collapsed": false
   },
   "outputs": [
    {
     "data": {
      "text/plain": [
       "Adoption         10769\n",
       "Transfer          9422\n",
       "ReturnToOwner     4786\n",
       "Euthanasia        1555\n",
       "Died               197\n",
       "Name: OutcomeType, dtype: int64"
      ]
     },
     "execution_count": 30,
     "metadata": {},
     "output_type": "execute_result"
    }
   ],
   "source": [
    "df.OutcomeType.value_counts()"
   ]
  },
  {
   "cell_type": "markdown",
   "metadata": {},
   "source": [
    "> Instead of using a `lambda` function (for short expressions), we could have called an already defined function."
   ]
  },
  {
   "cell_type": "code",
   "execution_count": 31,
   "metadata": {
    "collapsed": false
   },
   "outputs": [],
   "source": [
    "def process_outcome_type(outcome_type):\n",
    "    if outcome_type == 'Return_to_owner':\n",
    "        return 'ReturnToOwner'\n",
    "    else:\n",
    "        return outcome_type\n",
    "\n",
    "df.OutcomeType = df.OutcomeType.\\\n",
    "    apply(process_outcome_type)"
   ]
  },
  {
   "cell_type": "markdown",
   "metadata": {},
   "source": [
    "### OutcomeSubtype"
   ]
  },
  {
   "cell_type": "code",
   "execution_count": 32,
   "metadata": {
    "collapsed": false
   },
   "outputs": [
    {
     "data": {
      "text/plain": [
       "array([nan, 'Suffering', 'Foster', 'Partner', 'Offsite', 'SCRP',\n",
       "       'Aggressive', 'Behavior', 'Rabies Risk', 'Medical', 'In Kennel',\n",
       "       'In Foster', 'Barn', 'Court/Investigation', 'Enroute', 'At Vet',\n",
       "       'In Surgery'], dtype=object)"
      ]
     },
     "execution_count": 32,
     "metadata": {},
     "output_type": "execute_result"
    }
   ],
   "source": [
    "df.OutcomeSubtype.unique()"
   ]
  },
  {
   "cell_type": "markdown",
   "metadata": {},
   "source": [
    "> What if we want to remove the spaces and other special characters in the different values?"
   ]
  },
  {
   "cell_type": "code",
   "execution_count": 33,
   "metadata": {
    "collapsed": false
   },
   "outputs": [
    {
     "data": {
      "text/plain": [
       "'InKennel'"
      ]
     },
     "execution_count": 33,
     "metadata": {},
     "output_type": "execute_result"
    }
   ],
   "source": [
    "'In Kennel'.translate(None, ' ')"
   ]
  },
  {
   "cell_type": "code",
   "execution_count": 34,
   "metadata": {
    "collapsed": false
   },
   "outputs": [
    {
     "data": {
      "text/plain": [
       "'Court/Investigation'"
      ]
     },
     "execution_count": 34,
     "metadata": {},
     "output_type": "execute_result"
    }
   ],
   "source": [
    "'Court/Investigation'.translate(None, ' ')"
   ]
  },
  {
   "cell_type": "code",
   "execution_count": 35,
   "metadata": {
    "collapsed": false
   },
   "outputs": [
    {
     "data": {
      "text/plain": [
       "'CourtInvestigation'"
      ]
     },
     "execution_count": 35,
     "metadata": {},
     "output_type": "execute_result"
    }
   ],
   "source": [
    "'Court/Investigation'.translate(None, '/')"
   ]
  },
  {
   "cell_type": "code",
   "execution_count": 36,
   "metadata": {
    "collapsed": false
   },
   "outputs": [
    {
     "data": {
      "text/plain": [
       "'CourtInvestigation'"
      ]
     },
     "execution_count": 36,
     "metadata": {},
     "output_type": "execute_result"
    }
   ],
   "source": [
    "'Court/Investigation'.translate(None, '/ ')"
   ]
  },
  {
   "cell_type": "code",
   "execution_count": 37,
   "metadata": {
    "collapsed": false
   },
   "outputs": [
    {
     "data": {
      "text/plain": [
       "'InKennel'"
      ]
     },
     "execution_count": 37,
     "metadata": {},
     "output_type": "execute_result"
    }
   ],
   "source": [
    "'In Kennel'.translate(None, '/ ')"
   ]
  },
  {
   "cell_type": "code",
   "execution_count": 38,
   "metadata": {
    "collapsed": false
   },
   "outputs": [],
   "source": [
    "def process_outcome_subtype(outcome_subtype):\n",
    "    if pd.isnull(outcome_subtype):\n",
    "        return np.nan\n",
    "\n",
    "    return outcome_subtype.translate(None, '/ ')\n",
    "\n",
    "df.OutcomeSubtype = df.OutcomeSubtype.apply(process_outcome_subtype)"
   ]
  },
  {
   "cell_type": "code",
   "execution_count": 39,
   "metadata": {
    "collapsed": false
   },
   "outputs": [
    {
     "data": {
      "text/plain": [
       "array([nan, 'Suffering', 'Foster', 'Partner', 'Offsite', 'SCRP',\n",
       "       'Aggressive', 'Behavior', 'RabiesRisk', 'Medical', 'InKennel',\n",
       "       'InFoster', 'Barn', 'CourtInvestigation', 'Enroute', 'AtVet',\n",
       "       'InSurgery'], dtype=object)"
      ]
     },
     "execution_count": 39,
     "metadata": {},
     "output_type": "execute_result"
    }
   ],
   "source": [
    "df.OutcomeSubtype.unique()"
   ]
  },
  {
   "cell_type": "markdown",
   "metadata": {},
   "source": [
    "### OutcomeType and OutcomeSubtype"
   ]
  },
  {
   "cell_type": "code",
   "execution_count": 40,
   "metadata": {
    "collapsed": false
   },
   "outputs": [
    {
     "data": {
      "text/html": [
       "<div>\n",
       "<table border=\"1\" class=\"dataframe\">\n",
       "  <thead>\n",
       "    <tr style=\"text-align: right;\">\n",
       "      <th>OutcomeType</th>\n",
       "      <th>Adoption</th>\n",
       "      <th>Died</th>\n",
       "      <th>Euthanasia</th>\n",
       "      <th>Transfer</th>\n",
       "      <th>All</th>\n",
       "    </tr>\n",
       "    <tr>\n",
       "      <th>OutcomeSubtype</th>\n",
       "      <th></th>\n",
       "      <th></th>\n",
       "      <th></th>\n",
       "      <th></th>\n",
       "      <th></th>\n",
       "    </tr>\n",
       "  </thead>\n",
       "  <tbody>\n",
       "    <tr>\n",
       "      <th>Aggressive</th>\n",
       "      <td>0</td>\n",
       "      <td>0</td>\n",
       "      <td>320</td>\n",
       "      <td>0</td>\n",
       "      <td>320</td>\n",
       "    </tr>\n",
       "    <tr>\n",
       "      <th>AtVet</th>\n",
       "      <td>0</td>\n",
       "      <td>4</td>\n",
       "      <td>0</td>\n",
       "      <td>0</td>\n",
       "      <td>4</td>\n",
       "    </tr>\n",
       "    <tr>\n",
       "      <th>Barn</th>\n",
       "      <td>1</td>\n",
       "      <td>0</td>\n",
       "      <td>0</td>\n",
       "      <td>1</td>\n",
       "      <td>2</td>\n",
       "    </tr>\n",
       "    <tr>\n",
       "      <th>Behavior</th>\n",
       "      <td>0</td>\n",
       "      <td>0</td>\n",
       "      <td>86</td>\n",
       "      <td>0</td>\n",
       "      <td>86</td>\n",
       "    </tr>\n",
       "    <tr>\n",
       "      <th>CourtInvestigation</th>\n",
       "      <td>0</td>\n",
       "      <td>0</td>\n",
       "      <td>6</td>\n",
       "      <td>0</td>\n",
       "      <td>6</td>\n",
       "    </tr>\n",
       "    <tr>\n",
       "      <th>Enroute</th>\n",
       "      <td>0</td>\n",
       "      <td>8</td>\n",
       "      <td>0</td>\n",
       "      <td>0</td>\n",
       "      <td>8</td>\n",
       "    </tr>\n",
       "    <tr>\n",
       "      <th>Foster</th>\n",
       "      <td>1800</td>\n",
       "      <td>0</td>\n",
       "      <td>0</td>\n",
       "      <td>0</td>\n",
       "      <td>1800</td>\n",
       "    </tr>\n",
       "    <tr>\n",
       "      <th>InFoster</th>\n",
       "      <td>0</td>\n",
       "      <td>52</td>\n",
       "      <td>0</td>\n",
       "      <td>0</td>\n",
       "      <td>52</td>\n",
       "    </tr>\n",
       "    <tr>\n",
       "      <th>InKennel</th>\n",
       "      <td>0</td>\n",
       "      <td>114</td>\n",
       "      <td>0</td>\n",
       "      <td>0</td>\n",
       "      <td>114</td>\n",
       "    </tr>\n",
       "    <tr>\n",
       "      <th>InSurgery</th>\n",
       "      <td>0</td>\n",
       "      <td>3</td>\n",
       "      <td>0</td>\n",
       "      <td>0</td>\n",
       "      <td>3</td>\n",
       "    </tr>\n",
       "    <tr>\n",
       "      <th>Medical</th>\n",
       "      <td>0</td>\n",
       "      <td>0</td>\n",
       "      <td>66</td>\n",
       "      <td>0</td>\n",
       "      <td>66</td>\n",
       "    </tr>\n",
       "    <tr>\n",
       "      <th>Offsite</th>\n",
       "      <td>165</td>\n",
       "      <td>0</td>\n",
       "      <td>0</td>\n",
       "      <td>0</td>\n",
       "      <td>165</td>\n",
       "    </tr>\n",
       "    <tr>\n",
       "      <th>Partner</th>\n",
       "      <td>0</td>\n",
       "      <td>0</td>\n",
       "      <td>0</td>\n",
       "      <td>7816</td>\n",
       "      <td>7816</td>\n",
       "    </tr>\n",
       "    <tr>\n",
       "      <th>RabiesRisk</th>\n",
       "      <td>0</td>\n",
       "      <td>0</td>\n",
       "      <td>74</td>\n",
       "      <td>0</td>\n",
       "      <td>74</td>\n",
       "    </tr>\n",
       "    <tr>\n",
       "      <th>SCRP</th>\n",
       "      <td>0</td>\n",
       "      <td>0</td>\n",
       "      <td>0</td>\n",
       "      <td>1599</td>\n",
       "      <td>1599</td>\n",
       "    </tr>\n",
       "    <tr>\n",
       "      <th>Suffering</th>\n",
       "      <td>0</td>\n",
       "      <td>0</td>\n",
       "      <td>1002</td>\n",
       "      <td>0</td>\n",
       "      <td>1002</td>\n",
       "    </tr>\n",
       "    <tr>\n",
       "      <th>All</th>\n",
       "      <td>1966</td>\n",
       "      <td>181</td>\n",
       "      <td>1554</td>\n",
       "      <td>9416</td>\n",
       "      <td>13117</td>\n",
       "    </tr>\n",
       "  </tbody>\n",
       "</table>\n",
       "</div>"
      ],
      "text/plain": [
       "OutcomeType         Adoption  Died  Euthanasia  Transfer    All\n",
       "OutcomeSubtype                                                 \n",
       "Aggressive                 0     0         320         0    320\n",
       "AtVet                      0     4           0         0      4\n",
       "Barn                       1     0           0         1      2\n",
       "Behavior                   0     0          86         0     86\n",
       "CourtInvestigation         0     0           6         0      6\n",
       "Enroute                    0     8           0         0      8\n",
       "Foster                  1800     0           0         0   1800\n",
       "InFoster                   0    52           0         0     52\n",
       "InKennel                   0   114           0         0    114\n",
       "InSurgery                  0     3           0         0      3\n",
       "Medical                    0     0          66         0     66\n",
       "Offsite                  165     0           0         0    165\n",
       "Partner                    0     0           0      7816   7816\n",
       "RabiesRisk                 0     0          74         0     74\n",
       "SCRP                       0     0           0      1599   1599\n",
       "Suffering                  0     0        1002         0   1002\n",
       "All                     1966   181        1554      9416  13117"
      ]
     },
     "execution_count": 40,
     "metadata": {},
     "output_type": "execute_result"
    }
   ],
   "source": [
    "pd.crosstab(df.OutcomeSubtype, df.OutcomeType, margins = True)"
   ]
  },
  {
   "cell_type": "markdown",
   "metadata": {},
   "source": [
    "> By default, `crosstab()` doesn't include counts of `NaN`."
   ]
  },
  {
   "cell_type": "code",
   "execution_count": 41,
   "metadata": {
    "collapsed": false
   },
   "outputs": [
    {
     "data": {
      "text/html": [
       "<div>\n",
       "<table border=\"1\" class=\"dataframe\">\n",
       "  <thead>\n",
       "    <tr style=\"text-align: right;\">\n",
       "      <th>OutcomeType</th>\n",
       "      <th>Adoption</th>\n",
       "      <th>Died</th>\n",
       "      <th>Euthanasia</th>\n",
       "      <th>ReturnToOwner</th>\n",
       "      <th>Transfer</th>\n",
       "      <th>All</th>\n",
       "    </tr>\n",
       "    <tr>\n",
       "      <th>OutcomeSubtype</th>\n",
       "      <th></th>\n",
       "      <th></th>\n",
       "      <th></th>\n",
       "      <th></th>\n",
       "      <th></th>\n",
       "      <th></th>\n",
       "    </tr>\n",
       "  </thead>\n",
       "  <tbody>\n",
       "    <tr>\n",
       "      <th>Aggressive</th>\n",
       "      <td>0</td>\n",
       "      <td>0</td>\n",
       "      <td>320</td>\n",
       "      <td>0</td>\n",
       "      <td>0</td>\n",
       "      <td>320</td>\n",
       "    </tr>\n",
       "    <tr>\n",
       "      <th>AtVet</th>\n",
       "      <td>0</td>\n",
       "      <td>4</td>\n",
       "      <td>0</td>\n",
       "      <td>0</td>\n",
       "      <td>0</td>\n",
       "      <td>4</td>\n",
       "    </tr>\n",
       "    <tr>\n",
       "      <th>Barn</th>\n",
       "      <td>1</td>\n",
       "      <td>0</td>\n",
       "      <td>0</td>\n",
       "      <td>0</td>\n",
       "      <td>1</td>\n",
       "      <td>2</td>\n",
       "    </tr>\n",
       "    <tr>\n",
       "      <th>Behavior</th>\n",
       "      <td>0</td>\n",
       "      <td>0</td>\n",
       "      <td>86</td>\n",
       "      <td>0</td>\n",
       "      <td>0</td>\n",
       "      <td>86</td>\n",
       "    </tr>\n",
       "    <tr>\n",
       "      <th>CourtInvestigation</th>\n",
       "      <td>0</td>\n",
       "      <td>0</td>\n",
       "      <td>6</td>\n",
       "      <td>0</td>\n",
       "      <td>0</td>\n",
       "      <td>6</td>\n",
       "    </tr>\n",
       "    <tr>\n",
       "      <th>Enroute</th>\n",
       "      <td>0</td>\n",
       "      <td>8</td>\n",
       "      <td>0</td>\n",
       "      <td>0</td>\n",
       "      <td>0</td>\n",
       "      <td>8</td>\n",
       "    </tr>\n",
       "    <tr>\n",
       "      <th>Foster</th>\n",
       "      <td>1800</td>\n",
       "      <td>0</td>\n",
       "      <td>0</td>\n",
       "      <td>0</td>\n",
       "      <td>0</td>\n",
       "      <td>1800</td>\n",
       "    </tr>\n",
       "    <tr>\n",
       "      <th>InFoster</th>\n",
       "      <td>0</td>\n",
       "      <td>52</td>\n",
       "      <td>0</td>\n",
       "      <td>0</td>\n",
       "      <td>0</td>\n",
       "      <td>52</td>\n",
       "    </tr>\n",
       "    <tr>\n",
       "      <th>InKennel</th>\n",
       "      <td>0</td>\n",
       "      <td>114</td>\n",
       "      <td>0</td>\n",
       "      <td>0</td>\n",
       "      <td>0</td>\n",
       "      <td>114</td>\n",
       "    </tr>\n",
       "    <tr>\n",
       "      <th>InSurgery</th>\n",
       "      <td>0</td>\n",
       "      <td>3</td>\n",
       "      <td>0</td>\n",
       "      <td>0</td>\n",
       "      <td>0</td>\n",
       "      <td>3</td>\n",
       "    </tr>\n",
       "    <tr>\n",
       "      <th>Medical</th>\n",
       "      <td>0</td>\n",
       "      <td>0</td>\n",
       "      <td>66</td>\n",
       "      <td>0</td>\n",
       "      <td>0</td>\n",
       "      <td>66</td>\n",
       "    </tr>\n",
       "    <tr>\n",
       "      <th>Offsite</th>\n",
       "      <td>165</td>\n",
       "      <td>0</td>\n",
       "      <td>0</td>\n",
       "      <td>0</td>\n",
       "      <td>0</td>\n",
       "      <td>165</td>\n",
       "    </tr>\n",
       "    <tr>\n",
       "      <th>Partner</th>\n",
       "      <td>0</td>\n",
       "      <td>0</td>\n",
       "      <td>0</td>\n",
       "      <td>0</td>\n",
       "      <td>7816</td>\n",
       "      <td>7816</td>\n",
       "    </tr>\n",
       "    <tr>\n",
       "      <th>RabiesRisk</th>\n",
       "      <td>0</td>\n",
       "      <td>0</td>\n",
       "      <td>74</td>\n",
       "      <td>0</td>\n",
       "      <td>0</td>\n",
       "      <td>74</td>\n",
       "    </tr>\n",
       "    <tr>\n",
       "      <th>SCRP</th>\n",
       "      <td>0</td>\n",
       "      <td>0</td>\n",
       "      <td>0</td>\n",
       "      <td>0</td>\n",
       "      <td>1599</td>\n",
       "      <td>1599</td>\n",
       "    </tr>\n",
       "    <tr>\n",
       "      <th>Suffering</th>\n",
       "      <td>0</td>\n",
       "      <td>0</td>\n",
       "      <td>1002</td>\n",
       "      <td>0</td>\n",
       "      <td>0</td>\n",
       "      <td>1002</td>\n",
       "    </tr>\n",
       "    <tr>\n",
       "      <th>All</th>\n",
       "      <td>10769</td>\n",
       "      <td>197</td>\n",
       "      <td>1555</td>\n",
       "      <td>4786</td>\n",
       "      <td>9422</td>\n",
       "      <td>26729</td>\n",
       "    </tr>\n",
       "  </tbody>\n",
       "</table>\n",
       "</div>"
      ],
      "text/plain": [
       "OutcomeType         Adoption  Died  Euthanasia  ReturnToOwner  Transfer    All\n",
       "OutcomeSubtype                                                                \n",
       "Aggressive                 0     0         320              0         0    320\n",
       "AtVet                      0     4           0              0         0      4\n",
       "Barn                       1     0           0              0         1      2\n",
       "Behavior                   0     0          86              0         0     86\n",
       "CourtInvestigation         0     0           6              0         0      6\n",
       "Enroute                    0     8           0              0         0      8\n",
       "Foster                  1800     0           0              0         0   1800\n",
       "InFoster                   0    52           0              0         0     52\n",
       "InKennel                   0   114           0              0         0    114\n",
       "InSurgery                  0     3           0              0         0      3\n",
       "Medical                    0     0          66              0         0     66\n",
       "Offsite                  165     0           0              0         0    165\n",
       "Partner                    0     0           0              0      7816   7816\n",
       "RabiesRisk                 0     0          74              0         0     74\n",
       "SCRP                       0     0           0              0      1599   1599\n",
       "Suffering                  0     0        1002              0         0   1002\n",
       "All                    10769   197        1555           4786      9422  26729"
      ]
     },
     "execution_count": 41,
     "metadata": {},
     "output_type": "execute_result"
    }
   ],
   "source": [
    "pd.crosstab(df.OutcomeSubtype, df.OutcomeType, dropna = False, margins = True)"
   ]
  },
  {
   "cell_type": "markdown",
   "metadata": {},
   "source": [
    "> The totals are correct but the `NaN` don't have their own rows."
   ]
  },
  {
   "cell_type": "markdown",
   "metadata": {},
   "source": [
    "## `AnimalType`"
   ]
  },
  {
   "cell_type": "code",
   "execution_count": 42,
   "metadata": {
    "collapsed": false
   },
   "outputs": [
    {
     "data": {
      "text/plain": [
       "Dog    15595\n",
       "Cat    11134\n",
       "Name: AnimalType, dtype: int64"
      ]
     },
     "execution_count": 42,
     "metadata": {},
     "output_type": "execute_result"
    }
   ],
   "source": [
    "df.AnimalType.value_counts(dropna = False)"
   ]
  },
  {
   "cell_type": "markdown",
   "metadata": {},
   "source": [
    "## `SexuponOutcome`"
   ]
  },
  {
   "cell_type": "code",
   "execution_count": 43,
   "metadata": {
    "collapsed": false
   },
   "outputs": [
    {
     "data": {
      "text/plain": [
       "array(['Neutered Male', 'Spayed Female', 'Intact Male', 'Intact Female',\n",
       "       'Unknown', nan], dtype=object)"
      ]
     },
     "execution_count": 43,
     "metadata": {},
     "output_type": "execute_result"
    }
   ],
   "source": [
    "df.SexuponOutcome.unique()"
   ]
  },
  {
   "cell_type": "markdown",
   "metadata": {},
   "source": [
    "> Let's convert the 'Unknown' to `NaN`."
   ]
  },
  {
   "cell_type": "code",
   "execution_count": 44,
   "metadata": {
    "collapsed": false
   },
   "outputs": [],
   "source": [
    "df.SexuponOutcome = df.SexuponOutcome.\\\n",
    "    apply(lambda sex_upon_outcome: np.nan if sex_upon_outcome == 'Unknown' else sex_upon_outcome)"
   ]
  },
  {
   "cell_type": "code",
   "execution_count": 45,
   "metadata": {
    "collapsed": false
   },
   "outputs": [
    {
     "data": {
      "text/plain": [
       "array(['Neutered Male', 'Spayed Female', 'Intact Male', 'Intact Female',\n",
       "       nan], dtype=object)"
      ]
     },
     "execution_count": 45,
     "metadata": {},
     "output_type": "execute_result"
    }
   ],
   "source": [
    "df.SexuponOutcome.unique()"
   ]
  },
  {
   "cell_type": "markdown",
   "metadata": {},
   "source": [
    "> How to find substrings:"
   ]
  },
  {
   "cell_type": "code",
   "execution_count": 46,
   "metadata": {
    "collapsed": false
   },
   "outputs": [
    {
     "data": {
      "text/plain": [
       "True"
      ]
     },
     "execution_count": 46,
     "metadata": {},
     "output_type": "execute_result"
    }
   ],
   "source": [
    "'Intact' in 'Intact Male'"
   ]
  },
  {
   "cell_type": "code",
   "execution_count": 47,
   "metadata": {
    "collapsed": false
   },
   "outputs": [
    {
     "data": {
      "text/plain": [
       "True"
      ]
     },
     "execution_count": 47,
     "metadata": {},
     "output_type": "execute_result"
    }
   ],
   "source": [
    "'Male' in 'Intact Male'"
   ]
  },
  {
   "cell_type": "code",
   "execution_count": 48,
   "metadata": {
    "collapsed": false
   },
   "outputs": [
    {
     "data": {
      "text/plain": [
       "False"
      ]
     },
     "execution_count": 48,
     "metadata": {},
     "output_type": "execute_result"
    }
   ],
   "source": [
    "'Male ' in 'Intact Male'"
   ]
  },
  {
   "cell_type": "code",
   "execution_count": 49,
   "metadata": {
    "collapsed": true
   },
   "outputs": [],
   "source": [
    "is_male = 'Male' in df.SexuponOutcome"
   ]
  },
  {
   "cell_type": "code",
   "execution_count": 50,
   "metadata": {
    "collapsed": false
   },
   "outputs": [
    {
     "data": {
      "text/plain": [
       "False"
      ]
     },
     "execution_count": 50,
     "metadata": {},
     "output_type": "execute_result"
    }
   ],
   "source": [
    "is_male"
   ]
  },
  {
   "cell_type": "code",
   "execution_count": 51,
   "metadata": {
    "collapsed": false
   },
   "outputs": [
    {
     "data": {
      "text/plain": [
       "AnimalID\n",
       "A671945    Neutered Male\n",
       "A656520    Spayed Female\n",
       "A686464    Neutered Male\n",
       "A683430      Intact Male\n",
       "A667013    Neutered Male\n",
       "A677334    Intact Female\n",
       "A699218      Intact Male\n",
       "A701489              NaN\n",
       "A671784    Spayed Female\n",
       "A677747    Spayed Female\n",
       "A668402              NaN\n",
       "A666320    Spayed Female\n",
       "               ...      \n",
       "A519949    Spayed Female\n",
       "A701044    Neutered Male\n",
       "A707871              NaN\n",
       "A704405    Spayed Female\n",
       "A662019    Spayed Female\n",
       "A687056      Intact Male\n",
       "A716997    Neutered Male\n",
       "A702446      Intact Male\n",
       "A718934    Spayed Female\n",
       "A698128    Neutered Male\n",
       "A677478      Intact Male\n",
       "A706629      Intact Male\n",
       "Name: SexuponOutcome, dtype: object"
      ]
     },
     "execution_count": 51,
     "metadata": {},
     "output_type": "execute_result"
    }
   ],
   "source": [
    "df.SexuponOutcome"
   ]
  },
  {
   "cell_type": "code",
   "execution_count": 52,
   "metadata": {
    "collapsed": false
   },
   "outputs": [],
   "source": [
    "is_male = df.SexuponOutcome.apply(lambda sex_upon_outcome: pd.notnull(sex_upon_outcome) and ('Male' in sex_upon_outcome))"
   ]
  },
  {
   "cell_type": "code",
   "execution_count": 53,
   "metadata": {
    "collapsed": false
   },
   "outputs": [
    {
     "data": {
      "text/plain": [
       "AnimalID\n",
       "A671945     True\n",
       "A656520    False\n",
       "A686464     True\n",
       "A683430     True\n",
       "A667013     True\n",
       "A677334    False\n",
       "A699218     True\n",
       "A701489    False\n",
       "A671784    False\n",
       "A677747    False\n",
       "A668402    False\n",
       "A666320    False\n",
       "           ...  \n",
       "A519949    False\n",
       "A701044     True\n",
       "A707871    False\n",
       "A704405    False\n",
       "A662019    False\n",
       "A687056     True\n",
       "A716997     True\n",
       "A702446     True\n",
       "A718934    False\n",
       "A698128     True\n",
       "A677478     True\n",
       "A706629     True\n",
       "Name: SexuponOutcome, dtype: bool"
      ]
     },
     "execution_count": 53,
     "metadata": {},
     "output_type": "execute_result"
    }
   ],
   "source": [
    "is_male"
   ]
  },
  {
   "cell_type": "code",
   "execution_count": 54,
   "metadata": {
    "collapsed": false
   },
   "outputs": [],
   "source": [
    "is_female = df.SexuponOutcome.apply(lambda sex_upon_outcome: pd.notnull(sex_upon_outcome) and ('Female' in sex_upon_outcome))"
   ]
  },
  {
   "cell_type": "code",
   "execution_count": 55,
   "metadata": {
    "collapsed": true
   },
   "outputs": [],
   "source": [
    "df['Sex'] = np.nan"
   ]
  },
  {
   "cell_type": "code",
   "execution_count": 56,
   "metadata": {
    "collapsed": false
   },
   "outputs": [
    {
     "data": {
      "text/plain": [
       "NaN    26729\n",
       "Name: Sex, dtype: int64"
      ]
     },
     "execution_count": 56,
     "metadata": {},
     "output_type": "execute_result"
    }
   ],
   "source": [
    "df.Sex.value_counts(dropna = False)"
   ]
  },
  {
   "cell_type": "code",
   "execution_count": 57,
   "metadata": {
    "collapsed": true
   },
   "outputs": [],
   "source": [
    "df.loc[is_male, 'Sex'] = 'Male'"
   ]
  },
  {
   "cell_type": "code",
   "execution_count": 58,
   "metadata": {
    "collapsed": false
   },
   "outputs": [
    {
     "data": {
      "text/plain": [
       "NaN     13425\n",
       "Male    13304\n",
       "Name: Sex, dtype: int64"
      ]
     },
     "execution_count": 58,
     "metadata": {},
     "output_type": "execute_result"
    }
   ],
   "source": [
    "df.Sex.value_counts(dropna = False)"
   ]
  },
  {
   "cell_type": "code",
   "execution_count": 59,
   "metadata": {
    "collapsed": true
   },
   "outputs": [],
   "source": [
    "df.loc[is_female, 'Sex'] = 'Female'"
   ]
  },
  {
   "cell_type": "code",
   "execution_count": 60,
   "metadata": {
    "collapsed": false
   },
   "outputs": [
    {
     "data": {
      "text/plain": [
       "Male      13304\n",
       "Female    12331\n",
       "NaN        1094\n",
       "Name: Sex, dtype: int64"
      ]
     },
     "execution_count": 60,
     "metadata": {},
     "output_type": "execute_result"
    }
   ],
   "source": [
    "df.Sex.value_counts(dropna = False)"
   ]
  },
  {
   "cell_type": "code",
   "execution_count": 61,
   "metadata": {
    "collapsed": false
   },
   "outputs": [],
   "source": [
    "is_neutered = df.SexuponOutcome.apply(lambda sex_upon_outcome: pd.notnull(sex_upon_outcome) and ('Neutered' in sex_upon_outcome))\n",
    "is_spayed = df.SexuponOutcome.apply(lambda sex_upon_outcome: pd.notnull(sex_upon_outcome) and ('Spayed' in sex_upon_outcome))\n",
    "\n",
    "df['Sterilized'] = np.nan\n",
    "\n",
    "df.loc[is_male, 'Sterilized'] = False\n",
    "df.loc[is_female, 'Sterilized'] = False\n",
    "\n",
    "df.loc[is_neutered, 'Sterilized'] = True\n",
    "df.loc[is_spayed, 'Sterilized'] = True"
   ]
  },
  {
   "cell_type": "code",
   "execution_count": 62,
   "metadata": {
    "collapsed": false
   },
   "outputs": [
    {
     "data": {
      "text/plain": [
       "True     18599\n",
       "False     7036\n",
       "NaN       1094\n",
       "Name: Sterilized, dtype: int64"
      ]
     },
     "execution_count": 62,
     "metadata": {},
     "output_type": "execute_result"
    }
   ],
   "source": [
    "df.Sterilized.value_counts(dropna = False)"
   ]
  },
  {
   "cell_type": "code",
   "execution_count": 63,
   "metadata": {
    "collapsed": false
   },
   "outputs": [
    {
     "data": {
      "text/plain": [
       "Neutered Male    9779\n",
       "Spayed Female    8820\n",
       "Intact Male      3525\n",
       "Intact Female    3511\n",
       "Name: SexuponOutcome, dtype: int64"
      ]
     },
     "execution_count": 63,
     "metadata": {},
     "output_type": "execute_result"
    }
   ],
   "source": [
    "df.SexuponOutcome.value_counts()"
   ]
  },
  {
   "cell_type": "code",
   "execution_count": 64,
   "metadata": {
    "collapsed": false
   },
   "outputs": [
    {
     "data": {
      "text/plain": [
       "9779"
      ]
     },
     "execution_count": 64,
     "metadata": {},
     "output_type": "execute_result"
    }
   ],
   "source": [
    "((df.Sex == 'Male') & df.Sterilized).sum()"
   ]
  },
  {
   "cell_type": "code",
   "execution_count": 65,
   "metadata": {
    "collapsed": false
   },
   "outputs": [
    {
     "data": {
      "text/plain": [
       "8820"
      ]
     },
     "execution_count": 65,
     "metadata": {},
     "output_type": "execute_result"
    }
   ],
   "source": [
    "((df.Sex == 'Female') & df.Sterilized).sum()"
   ]
  },
  {
   "cell_type": "code",
   "execution_count": 66,
   "metadata": {
    "collapsed": false
   },
   "outputs": [
    {
     "data": {
      "text/plain": [
       "3525"
      ]
     },
     "execution_count": 66,
     "metadata": {},
     "output_type": "execute_result"
    }
   ],
   "source": [
    "((df.Sex == 'Male') & (df.Sterilized == False)).sum()"
   ]
  },
  {
   "cell_type": "code",
   "execution_count": 67,
   "metadata": {
    "collapsed": false
   },
   "outputs": [
    {
     "data": {
      "text/plain": [
       "3511"
      ]
     },
     "execution_count": 67,
     "metadata": {},
     "output_type": "execute_result"
    }
   ],
   "source": [
    "((df.Sex == 'Female') & (df.Sterilized == False)).sum()"
   ]
  },
  {
   "cell_type": "code",
   "execution_count": 68,
   "metadata": {
    "collapsed": false
   },
   "outputs": [
    {
     "data": {
      "text/plain": [
       "1094"
      ]
     },
     "execution_count": 68,
     "metadata": {},
     "output_type": "execute_result"
    }
   ],
   "source": [
    "df.Sex.isnull().sum()"
   ]
  },
  {
   "cell_type": "code",
   "execution_count": 69,
   "metadata": {
    "collapsed": false
   },
   "outputs": [
    {
     "data": {
      "text/plain": [
       "1094"
      ]
     },
     "execution_count": 69,
     "metadata": {},
     "output_type": "execute_result"
    }
   ],
   "source": [
    "df.Sterilized.isnull().sum()"
   ]
  },
  {
   "cell_type": "code",
   "execution_count": 70,
   "metadata": {
    "collapsed": false
   },
   "outputs": [],
   "source": [
    "df.drop('SexuponOutcome', axis = 1, inplace = True)"
   ]
  },
  {
   "cell_type": "markdown",
   "metadata": {},
   "source": [
    "## `AgeuponOutcome`"
   ]
  },
  {
   "cell_type": "code",
   "execution_count": 71,
   "metadata": {
    "collapsed": false
   },
   "outputs": [
    {
     "data": {
      "text/plain": [
       "array(['1 year', '2 years', '3 weeks', '1 month', '5 months', '4 years',\n",
       "       '3 months', '2 weeks', '2 months', '10 months', '6 months',\n",
       "       '5 years', '7 years', '3 years', '4 months', '12 years', '9 years',\n",
       "       '6 years', '1 weeks', '11 years', '4 weeks', '7 months', '8 years',\n",
       "       '11 months', '4 days', '9 months', '8 months', '15 years',\n",
       "       '10 years', '1 week', '0 years', '14 years', '3 days', '6 days',\n",
       "       '5 days', '5 weeks', '2 days', '16 years', '1 day', '13 years', nan,\n",
       "       '17 years', '18 years', '19 years', '20 years'], dtype=object)"
      ]
     },
     "execution_count": 71,
     "metadata": {},
     "output_type": "execute_result"
    }
   ],
   "source": [
    "df.AgeuponOutcome.unique()"
   ]
  },
  {
   "cell_type": "markdown",
   "metadata": {},
   "source": [
    "### One way to do it..."
   ]
  },
  {
   "cell_type": "code",
   "execution_count": 72,
   "metadata": {
    "collapsed": true
   },
   "outputs": [],
   "source": [
    "age_upon_outcome = '1 year'"
   ]
  },
  {
   "cell_type": "code",
   "execution_count": 73,
   "metadata": {
    "collapsed": false
   },
   "outputs": [],
   "source": [
    "(value, unit) = age_upon_outcome.split()"
   ]
  },
  {
   "cell_type": "code",
   "execution_count": 74,
   "metadata": {
    "collapsed": false
   },
   "outputs": [
    {
     "name": "stdout",
     "output_type": "stream",
     "text": [
      "value = 1\n",
      "unit  = year\n"
     ]
    }
   ],
   "source": [
    "print 'value =', value\n",
    "print 'unit  =', unit"
   ]
  },
  {
   "cell_type": "code",
   "execution_count": 75,
   "metadata": {
    "collapsed": false
   },
   "outputs": [],
   "source": [
    "def process_age_upcon_outcome(age_upon_outcome):\n",
    "    if pd.isnull(age_upon_outcome):\n",
    "        return np.nan\n",
    "\n",
    "    (value, unit) = age_upon_outcome.split()\n",
    "    value = float(value)\n",
    "\n",
    "    if 'day' in unit:\n",
    "        return value\n",
    "    elif 'week' in unit:\n",
    "        return value * 7\n",
    "    elif 'month' in unit:\n",
    "        return value * 30.5\n",
    "    elif 'year' in unit:\n",
    "        return value * 365.25\n",
    "    else:\n",
    "        raise Exception('No match for {}'.format(unit))\n",
    "\n",
    "df['AgeuponOutcome_1'] = df.AgeuponOutcome.apply(process_age_upcon_outcome)"
   ]
  },
  {
   "cell_type": "markdown",
   "metadata": {},
   "source": [
    "### Another way to do it (a bit more complex and overkill here but more powerful and more flexible)..."
   ]
  },
  {
   "cell_type": "code",
   "execution_count": 76,
   "metadata": {
    "collapsed": true
   },
   "outputs": [],
   "source": [
    "age_upon_outcome = '1 year'"
   ]
  },
  {
   "cell_type": "code",
   "execution_count": 77,
   "metadata": {
    "collapsed": false
   },
   "outputs": [],
   "source": [
    "match = re.search(r'(\\d) year', age_upon_outcome)"
   ]
  },
  {
   "cell_type": "code",
   "execution_count": 78,
   "metadata": {
    "collapsed": false
   },
   "outputs": [
    {
     "data": {
      "text/plain": [
       "'1'"
      ]
     },
     "execution_count": 78,
     "metadata": {},
     "output_type": "execute_result"
    }
   ],
   "source": [
    "match.group(1)"
   ]
  },
  {
   "cell_type": "code",
   "execution_count": 79,
   "metadata": {
    "collapsed": false
   },
   "outputs": [],
   "source": [
    "def print_age_upcon_outcome(age_upon_outcome):\n",
    "    match = re.search(r'(\\d) year', age_upon_outcome)\n",
    "    if match:\n",
    "        value_in_years = match.group(1)\n",
    "        print 'We have a match in years:', value_in_years\n",
    "    else:\n",
    "        print 'We have no match for \"{}\"'.format(age_upon_outcome)"
   ]
  },
  {
   "cell_type": "code",
   "execution_count": 80,
   "metadata": {
    "collapsed": false
   },
   "outputs": [
    {
     "name": "stdout",
     "output_type": "stream",
     "text": [
      "We have a match in years: 1\n"
     ]
    }
   ],
   "source": [
    "print_age_upcon_outcome('1 year')"
   ]
  },
  {
   "cell_type": "code",
   "execution_count": 81,
   "metadata": {
    "collapsed": false
   },
   "outputs": [
    {
     "name": "stdout",
     "output_type": "stream",
     "text": [
      "We have a match in years: 2\n"
     ]
    }
   ],
   "source": [
    "print_age_upcon_outcome('2 years')"
   ]
  },
  {
   "cell_type": "code",
   "execution_count": 82,
   "metadata": {
    "collapsed": false
   },
   "outputs": [
    {
     "name": "stdout",
     "output_type": "stream",
     "text": [
      "We have a match in years: 2\n"
     ]
    }
   ],
   "source": [
    "print_age_upcon_outcome('12 years')"
   ]
  },
  {
   "cell_type": "code",
   "execution_count": 83,
   "metadata": {
    "collapsed": true
   },
   "outputs": [],
   "source": [
    "def print_age_upcon_outcome(age_upon_outcome):\n",
    "    match = re.search(r'(\\d+) year', age_upon_outcome)\n",
    "    if match:\n",
    "        value_in_years = match.group(1)\n",
    "        print 'We have a match in years:', value_in_years\n",
    "    else:\n",
    "        print 'We have no match for \"{}\"'.format(age_upon_outcome)"
   ]
  },
  {
   "cell_type": "code",
   "execution_count": 84,
   "metadata": {
    "collapsed": false
   },
   "outputs": [
    {
     "name": "stdout",
     "output_type": "stream",
     "text": [
      "We have a match in years: 1\n",
      "We have a match in years: 2\n",
      "We have a match in years: 12\n"
     ]
    }
   ],
   "source": [
    "print_age_upcon_outcome('1 year')\n",
    "print_age_upcon_outcome('2 years')\n",
    "print_age_upcon_outcome('12 years')"
   ]
  },
  {
   "cell_type": "code",
   "execution_count": 85,
   "metadata": {
    "collapsed": false
   },
   "outputs": [
    {
     "name": "stdout",
     "output_type": "stream",
     "text": [
      "We have no match for \"1 month\"\n",
      "We have no match for \"3 weeks\"\n"
     ]
    }
   ],
   "source": [
    "print_age_upcon_outcome('1 month')\n",
    "print_age_upcon_outcome('3 weeks')"
   ]
  },
  {
   "cell_type": "code",
   "execution_count": 86,
   "metadata": {
    "collapsed": true
   },
   "outputs": [],
   "source": [
    "def print_age_upcon_outcome(age_upon_outcome):\n",
    "    match = re.search(r'(\\d+) (\\S+)', age_upon_outcome)\n",
    "    if match:\n",
    "        value = match.group(1)\n",
    "        unit = match.group(2)\n",
    "        print 'We have a match in {}: {}'.format(unit, value)\n",
    "    else:\n",
    "        print 'We have no match for \"{}\"'.format(age_upon_outcome)"
   ]
  },
  {
   "cell_type": "code",
   "execution_count": 87,
   "metadata": {
    "collapsed": false
   },
   "outputs": [
    {
     "name": "stdout",
     "output_type": "stream",
     "text": [
      "We have a match in year: 1\n",
      "We have a match in years: 2\n",
      "We have a match in years: 12\n",
      "We have a match in month: 1\n",
      "We have a match in weeks: 3\n"
     ]
    }
   ],
   "source": [
    "print_age_upcon_outcome('1 year')\n",
    "print_age_upcon_outcome('2 years')\n",
    "print_age_upcon_outcome('12 years')\n",
    "print_age_upcon_outcome('1 month')\n",
    "print_age_upcon_outcome('3 weeks')"
   ]
  },
  {
   "cell_type": "code",
   "execution_count": 88,
   "metadata": {
    "collapsed": true
   },
   "outputs": [],
   "source": [
    "def print_age_upcon_outcome(age_upon_outcome):\n",
    "    match = re.search(r'(\\d+) (\\S+[^s])', age_upon_outcome)\n",
    "    if match:\n",
    "        value = match.group(1)\n",
    "        unit = match.group(2)\n",
    "        print 'We have a match in {}: {}'.format(unit, value)\n",
    "    else:\n",
    "        print 'We have no match for \"{}\"'.format(age_upon_outcome)"
   ]
  },
  {
   "cell_type": "code",
   "execution_count": 89,
   "metadata": {
    "collapsed": false
   },
   "outputs": [
    {
     "name": "stdout",
     "output_type": "stream",
     "text": [
      "We have a match in year: 1\n",
      "We have a match in year: 2\n",
      "We have a match in year: 12\n",
      "We have a match in month: 1\n",
      "We have a match in week: 3\n"
     ]
    }
   ],
   "source": [
    "print_age_upcon_outcome('1 year')\n",
    "print_age_upcon_outcome('2 years')\n",
    "print_age_upcon_outcome('12 years')\n",
    "print_age_upcon_outcome('1 month')\n",
    "print_age_upcon_outcome('3 weeks')"
   ]
  },
  {
   "cell_type": "code",
   "execution_count": 90,
   "metadata": {
    "collapsed": true
   },
   "outputs": [],
   "source": [
    "def print_age_upcon_outcome(age_upon_outcome):\n",
    "    match = re.search(r'^(\\d+) (\\S+[^s])s?$', age_upon_outcome)\n",
    "    if match:\n",
    "        value = match.group(1)\n",
    "        unit = match.group(2)\n",
    "        print 'We have a match in {}: {}'.format(unit, value)\n",
    "    else:\n",
    "        raise Exception('No match for \"{}\"'.format(age_upon_outcome))"
   ]
  },
  {
   "cell_type": "code",
   "execution_count": 91,
   "metadata": {
    "collapsed": false
   },
   "outputs": [
    {
     "name": "stdout",
     "output_type": "stream",
     "text": [
      "We have a match in year: 1\n",
      "We have a match in year: 2\n",
      "We have a match in year: 12\n",
      "We have a match in month: 1\n",
      "We have a match in week: 3\n"
     ]
    }
   ],
   "source": [
    "print_age_upcon_outcome('1 year')\n",
    "print_age_upcon_outcome('2 years')\n",
    "print_age_upcon_outcome('12 years')\n",
    "print_age_upcon_outcome('1 month')\n",
    "print_age_upcon_outcome('3 weeks')"
   ]
  },
  {
   "cell_type": "code",
   "execution_count": 92,
   "metadata": {
    "collapsed": false
   },
   "outputs": [],
   "source": [
    "def process_age_upcon_outcome(age_upon_outcome):\n",
    "    if pd.isnull(age_upon_outcome):\n",
    "        return np.nan\n",
    "\n",
    "    match = re.search(r'^(\\d+) (\\S+[^s])s?$', age_upon_outcome)\n",
    "    if not match:\n",
    "        raise Exception('No match for \"{}\"'.format(age_upon_outcome))\n",
    "\n",
    "    value = float(match.group(1))\n",
    "    unit = match.group(2)\n",
    "\n",
    "    if unit == 'day':\n",
    "        return value\n",
    "    elif unit == 'week':\n",
    "        return value * 7\n",
    "    elif unit == 'month':\n",
    "        return value * 30.5\n",
    "    elif unit == 'year':\n",
    "        return value * 365.25\n",
    "    else:\n",
    "        raise Exception('No match for {}'.format(unit))\n",
    "\n",
    "df['AgeuponOutcome_2'] = df.AgeuponOutcome.apply(process_age_upcon_outcome)"
   ]
  },
  {
   "cell_type": "markdown",
   "metadata": {},
   "source": [
    "## `Breed`"
   ]
  },
  {
   "cell_type": "code",
   "execution_count": 93,
   "metadata": {
    "collapsed": false
   },
   "outputs": [
    {
     "data": {
      "text/plain": [
       "(1380L,)"
      ]
     },
     "execution_count": 93,
     "metadata": {},
     "output_type": "execute_result"
    }
   ],
   "source": [
    "df.Breed.unique().shape"
   ]
  },
  {
   "cell_type": "code",
   "execution_count": 94,
   "metadata": {
    "collapsed": false
   },
   "outputs": [
    {
     "data": {
      "text/plain": [
       "Domestic Shorthair Mix                   8810\n",
       "Pit Bull Mix                             1906\n",
       "Chihuahua Shorthair Mix                  1766\n",
       "Labrador Retriever Mix                   1363\n",
       "Domestic Medium Hair Mix                  839\n",
       "German Shepherd Mix                       575\n",
       "Domestic Longhair Mix                     520\n",
       "Siamese Mix                               389\n",
       "Australian Cattle Dog Mix                 367\n",
       "Dachshund Mix                             318\n",
       "Boxer Mix                                 245\n",
       "Miniature Poodle Mix                      233\n",
       "                                         ... \n",
       "Boston Terrier/Pit Bull                     1\n",
       "German Shepherd/Great Dane                  1\n",
       "Bluetick Hound                              1\n",
       "Greyhound/Labrador Retriever                1\n",
       "Collie Smooth/Siberian Husky                1\n",
       "Dogue De Bordeaux/American Bulldog          1\n",
       "Golden Retriever/Great Pyrenees             1\n",
       "Norfolk Terrier/Dachshund                   1\n",
       "Golden Retriever/Whippet                    1\n",
       "Chihuahua Shorthair/Shetland Sheepdog       1\n",
       "Vizsla/Boxer                                1\n",
       "Dachshund/Cavalier Span                     1\n",
       "Name: Breed, dtype: int64"
      ]
     },
     "execution_count": 94,
     "metadata": {},
     "output_type": "execute_result"
    }
   ],
   "source": [
    "df.Breed.value_counts(dropna = False)"
   ]
  },
  {
   "cell_type": "code",
   "execution_count": 95,
   "metadata": {
    "collapsed": false
   },
   "outputs": [
    {
     "data": {
      "text/plain": [
       "(1380L,)"
      ]
     },
     "execution_count": 95,
     "metadata": {},
     "output_type": "execute_result"
    }
   ],
   "source": [
    "df.Breed.unique().shape"
   ]
  },
  {
   "cell_type": "markdown",
   "metadata": {},
   "source": [
    "That's a lot of breeds to consider.  What would do you next?"
   ]
  },
  {
   "cell_type": "markdown",
   "metadata": {},
   "source": [
    "## `Color`"
   ]
  },
  {
   "cell_type": "code",
   "execution_count": 96,
   "metadata": {
    "collapsed": false
   },
   "outputs": [
    {
     "data": {
      "text/plain": [
       "array(['Brown/White', 'Cream Tabby', 'Blue/White', 'Blue Cream', 'Tan',\n",
       "       'Black/Tan', 'Blue Tabby', 'Brown Tabby', 'Red/White', 'White',\n",
       "       'Black', 'Silver', 'Brown', 'Black/Red', 'White/Cream',\n",
       "       'Orange Tabby/White', 'Black/White', 'Brown Brindle/White',\n",
       "       'Black/Brown', 'Orange Tabby', 'Chocolate/White', 'White/Tan',\n",
       "       'Cream Tabby/White', 'Blue', 'Calico', 'Torbie', 'Brown/Black',\n",
       "       'Yellow', 'Tricolor', 'White/Black', 'Tortie', 'Blue Tabby/White',\n",
       "       'Gray/White', 'Tan/Black', 'Tan/White', 'Buff', 'Brown Tabby/White',\n",
       "       'Red', 'Blue/Tan', 'Seal Point', 'Brown Brindle', 'White/Brown',\n",
       "       'Gray', 'Yellow Brindle/White', 'Fawn/White', 'Flame Point',\n",
       "       'Black Tabby/White', 'Tortie/Calico', 'Black/Brown Brindle',\n",
       "       'White/Gray', 'Tan/Silver', 'Red Tick/Black', 'White/Cream Tabby',\n",
       "       'Blue Merle', 'Chocolate/Tan', 'Sable', 'Brown Merle/White',\n",
       "       'Brown Tiger/White', 'Liver/White', 'White/Blue Tabby',\n",
       "       'Black/Gray', 'Cream', 'Chocolate', 'Blue Point', 'Apricot/White',\n",
       "       'Red Merle/Black', 'White/Brown Tabby', 'Blue Merle/White', 'Fawn',\n",
       "       'Lynx Point/White', 'Fawn/Black', 'Red Tick/White', 'Buff/Tan',\n",
       "       'Brown Brindle/Red Tick', 'White/Blue', 'Lilac Point', 'Buff/White',\n",
       "       'White/Orange Tabby', 'Tortie Point', 'Lynx Point', 'Tortie/White',\n",
       "       'Black/Tricolor', 'Apricot', 'Red/Tan', 'Tan/Brown',\n",
       "       'White/Tricolor', 'Brown/Tricolor', 'White/White', 'Gray Tabby',\n",
       "       'Sable/White', 'Blue Tiger/White', 'Yellow Brindle',\n",
       "       'White/Brown Brindle', 'Gold', 'Brown/Tan', 'Blue Tick',\n",
       "       'Torbie/White', 'Black Smoke/White', 'Blue Tabby/Orange',\n",
       "       'Red Merle', 'Tricolor/Blue', 'Yellow/White', 'Black Smoke',\n",
       "       'Calico Point', 'Blue Cream/Blue Tiger', 'Blue Merle/Gray',\n",
       "       'Brown/Silver', 'Tricolor/White', 'Sable/Black', 'Black Brindle',\n",
       "       'Tortie Point/Lynx Point', 'Brown Brindle/Black', 'Black/Buff',\n",
       "       'Calico/White', 'White/Orange', 'Black Tabby', 'Brown Merle',\n",
       "       'Black Brindle/White', 'Tan/Gray', 'Blue Merle/Brown',\n",
       "       'Red Merle/White', 'White/Chocolate Point', 'Silver/Black',\n",
       "       'White/Red', 'Cream/Red Tick', 'Cream/White', 'White/Liver',\n",
       "       'Chocolate/Gold', 'Calico Point/White', 'Brown/Brown',\n",
       "       'Seal Point/White', 'White/Black Brindle', 'Red/Black',\n",
       "       'Sable/Brown', 'Silver/Tan', 'White/Blue Merle',\n",
       "       'Calico/Brown Tabby', 'Silver Tabby', 'Tan/Blue', 'Blue Merle/Tan',\n",
       "       'Blue Tick/Black', 'Cream/Black', 'Chocolate/Tricolor',\n",
       "       'Gold/White', 'Silver/Brown', 'Cream/Gray', 'Black/Blue Tick',\n",
       "       'White/Chocolate', 'Black/Blue Merle', 'Red/Red Tick',\n",
       "       'Tricolor/Black', 'Orange', 'Black/Orange', 'Tan/Buff',\n",
       "       'Chocolate Point/White', 'Orange/White', 'Tortie/Blue Cream',\n",
       "       'White/Black Tabby', 'Brown/Red Tick', 'Blue/Brown Brindle',\n",
       "       'Black/Silver Tabby', 'Tan/Red', 'White/Lynx Point', 'Gray/Silver',\n",
       "       'Red/Gold', 'White/Buff', 'Tan/Gold', 'Blue Tabby/Blue Cream',\n",
       "       'Cream/Tan', 'Calico/Black', 'Sable/Tan', 'Blue/Black',\n",
       "       'Brown Tabby/Black', 'Red/Cream', 'Brown Tiger', 'Agouti',\n",
       "       'Gray/Tan', 'Calico/Tricolor', 'Black/Black', 'White/Blue Cream',\n",
       "       'Brown/Gray', 'Blue Point/White', 'Gray Tabby/White',\n",
       "       'White/Brown Tiger', 'Black/Cream', 'Red Tick/Tan',\n",
       "       'Orange Tabby/Apricot', 'Red Tick/Brown', 'White/Brown Merle',\n",
       "       'Fawn/Tricolor', 'Blue Smoke', 'Chocolate/Brown Brindle',\n",
       "       'Black Brindle/Black', 'Tan/Cream', 'Black Tabby/Orange',\n",
       "       'Apricot/Brown', 'Gray/Black', 'Buff/Red', 'Tan/Brown Brindle',\n",
       "       'Brown/Red', 'Black/Silver', 'Red Tick', 'Blue Tick/White',\n",
       "       'Silver Tabby/White', 'White/Apricot', 'White/Red Merle',\n",
       "       'Fawn/Brown Brindle', 'Orange/Tan', 'Black/Black Smoke',\n",
       "       'Brown/Chocolate', 'Liver Tick', 'Cream/Red',\n",
       "       'Black Smoke/Brown Tabby', 'Gray/Cream', 'Chocolate Point',\n",
       "       'Blue Merle/Tricolor', 'Red/Blue', 'Tricolor/Brown Merle',\n",
       "       'Blue/Tortie', 'Blue Smoke/Brown', 'Red/Brown', 'White/Silver',\n",
       "       'Tricolor/Brown', 'Chocolate/Brown', 'Blue Cream/White',\n",
       "       'Chocolate/Red', 'Cream/Brown', 'Blue Merle/Cream', 'Buff/Black',\n",
       "       'Tortie/Orange', 'Brown Merle/Black', 'Seal Point/Brown',\n",
       "       'Blue Tabby/Tan', 'Red/Red Merle', 'Tortie/Brown', 'Sable/Cream',\n",
       "       'Black/Black Tabby', 'Brown Tabby/Gray', 'Tan/Tan',\n",
       "       'Blue Tick/Brown', 'Chocolate/Black Smoke', 'Brown/Black Tabby',\n",
       "       'Brown/Buff', 'Yellow Brindle/Tan', 'Blue Tick/Tan',\n",
       "       'Red Tick/Brown Merle', 'White/Yellow', 'Lynx Point/Brown Tabby',\n",
       "       'Torbie/Brown', 'Liver/Buff', 'Tricolor/Tan', 'Chocolate/Black',\n",
       "       'Pink', 'Black/Blue', 'White/Gold', 'Red Tick/Red',\n",
       "       'Black/Yellow Brindle', 'Black/Chocolate', 'Silver Lynx Point',\n",
       "       'Brown/Brown Merle', 'Orange Tabby/Black', 'Tortie/Black',\n",
       "       'Brown Tabby/Brown', 'Brown Brindle/Tan', 'Torbie/Blue Cream',\n",
       "       'Black Brindle/Brown', 'Red/Tricolor', 'Blue/Yellow Brindle',\n",
       "       'White/Black Smoke', 'Ruddy/Cream', 'Blue Merle/Black',\n",
       "       'White/Yellow Brindle', 'Blue/Cream', 'Gold/Yellow', 'Blue Tiger',\n",
       "       'Tan/Brown Merle', 'White/Red Tick', 'Buff/Yellow',\n",
       "       'Tricolor/Chocolate', 'Silver/White', 'Gold/Tan', 'Gold/Gold',\n",
       "       'Tortie Point/White', 'Blue Tick/Red Tick', 'Brown Merle/Tan',\n",
       "       'Red Tick/Blue Tick', 'Brown/Blue Smoke', 'Liver/Tan',\n",
       "       'Red Merle/Tan', 'Black/Black Brindle', 'Blue Cream/Buff',\n",
       "       'Gray/Brown', 'Blue/Orange', 'Brown Merle/Blue Merle', 'White/Pink',\n",
       "       'Calico/Brown', 'Torbie/Calico', 'White/Gray Tabby',\n",
       "       'Brown Brindle/Blue', 'Brown/Blue', 'Blue Merle/Red',\n",
       "       'Brown Brindle/Brown Merle', 'Blue/Brown', 'Calico/Orange Tabby',\n",
       "       'White/Flame Point', 'Brown/Cream', 'Brown Brindle/Brown Brindle',\n",
       "       'Blue Merle/Blue Merle', 'White/Calico', 'Fawn/Brown', 'Gold/Black',\n",
       "       'Chocolate/Brown Merle', 'White/Blue Tick', 'Agouti/Brown Tabby',\n",
       "       'Brown Tabby/Tortie', 'Black/Yellow', 'Chocolate/Red Tick',\n",
       "       'Gray/Red', 'Brown Brindle/Blue Tick', 'Tan/Apricot',\n",
       "       'Blue Tick/Brown Brindle', 'Liver Tick/White', 'Cream/Seal Point',\n",
       "       'Lynx Point/Gray Tabby', 'Red/Buff', 'Tan/Tricolor',\n",
       "       'Blue Tabby/Cream', 'Black Tiger/White', 'Silver/Chocolate',\n",
       "       'Tricolor/Silver', 'Blue Merle/Red Merle', 'Silver Tabby/Black',\n",
       "       'Tortie/Black Smoke', 'Orange/Orange Tabby', 'Fawn/Blue',\n",
       "       'Black/Brown Merle', 'Tricolor/Blue Merle', 'Blue Cream/Tortie',\n",
       "       'Orange Tabby/Orange', 'Blue Tick/Red', 'Fawn/Tan',\n",
       "       'Brown Tabby/Orange', 'Yellow Brindle/Blue',\n",
       "       'Brown Brindle/Blue Cream', 'Yellow/Black', 'Calico/Blue Cream',\n",
       "       'Tan/Yellow Brindle', 'Black Brindle/Brown Brindle',\n",
       "       'Chocolate/Cream', 'Blue Cream/Blue Tabby', 'Calico/Blue Tabby',\n",
       "       'Orange Tiger', 'Cream/Orange', 'Sable/Red', 'Buff/Gray',\n",
       "       'Gold/Buff', 'Silver/Red', 'Tricolor/Calico', 'Brown/Black Brindle',\n",
       "       'Chocolate/Gray', 'Brown Tabby/Gray Tabby', 'Yellow/Yellow',\n",
       "       'Gray Tabby/Black', 'Red/Silver', 'Buff/Brown', 'Sable/Buff'], dtype=object)"
      ]
     },
     "execution_count": 96,
     "metadata": {},
     "output_type": "execute_result"
    }
   ],
   "source": [
    "df.Color.unique()"
   ]
  },
  {
   "cell_type": "code",
   "execution_count": 97,
   "metadata": {
    "collapsed": false
   },
   "outputs": [
    {
     "data": {
      "text/plain": [
       "(366L,)"
      ]
     },
     "execution_count": 97,
     "metadata": {},
     "output_type": "execute_result"
    }
   ],
   "source": [
    "df.Color.unique().shape"
   ]
  },
  {
   "cell_type": "markdown",
   "metadata": {},
   "source": [
    "There's also a lot of colors to consider.  How could you handle them?"
   ]
  }
 ],
 "metadata": {
  "kernelspec": {
   "display_name": "Python [Root]",
   "language": "python",
   "name": "Python [Root]"
  },
  "language_info": {
   "codemirror_mode": {
    "name": "ipython",
    "version": 2
   },
   "file_extension": ".py",
   "mimetype": "text/x-python",
   "name": "python",
   "nbconvert_exporter": "python",
   "pygments_lexer": "ipython2",
   "version": "2.7.12"
  }
 },
 "nbformat": 4,
 "nbformat_minor": 0
}
