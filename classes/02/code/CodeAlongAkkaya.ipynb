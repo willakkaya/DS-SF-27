{
 "cells": [
  {
   "cell_type": "code",
   "execution_count": 7,
   "metadata": {
    "collapsed": false
   },
   "outputs": [],
   "source": [
    "import os\n",
    "\n",
    "import pandas as pd\n",
    "pd.set_option('display.max_rows',6)\n",
    "pd.set_option('display.notebook_repr_html', True)\n",
    "pd.set_option('display.max_columns',10)"
   ]
  },
  {
   "cell_type": "code",
   "execution_count": 8,
   "metadata": {
    "collapsed": true
   },
   "outputs": [],
   "source": [
    "df = pd.read_csv(os.path.join('..', 'datasets', 'zillow-02-starter.csv'))"
   ]
  },
  {
   "cell_type": "code",
   "execution_count": 9,
   "metadata": {
    "collapsed": false
   },
   "outputs": [
    {
     "data": {
      "text/plain": [
       "pandas.core.frame.DataFrame"
      ]
     },
     "execution_count": 9,
     "metadata": {},
     "output_type": "execute_result"
    }
   ],
   "source": [
    "type(df)"
   ]
  },
  {
   "cell_type": "code",
   "execution_count": 10,
   "metadata": {
    "collapsed": false
   },
   "outputs": [
    {
     "data": {
      "text/html": [
       "<div>\n",
       "<table border=\"1\" class=\"dataframe\">\n",
       "  <thead>\n",
       "    <tr style=\"text-align: right;\">\n",
       "      <th></th>\n",
       "      <th>ID</th>\n",
       "      <th>Address</th>\n",
       "      <th>Latitude</th>\n",
       "      <th>Longitude</th>\n",
       "      <th>DateOfSale</th>\n",
       "      <th>...</th>\n",
       "      <th>Size</th>\n",
       "      <th>SizeUnit</th>\n",
       "      <th>LotSize</th>\n",
       "      <th>LotSizeUnit</th>\n",
       "      <th>BuiltInYear</th>\n",
       "    </tr>\n",
       "  </thead>\n",
       "  <tbody>\n",
       "    <tr>\n",
       "      <th>0</th>\n",
       "      <td>15063471</td>\n",
       "      <td>55 Vandewater St APT 9, San Francisco, CA</td>\n",
       "      <td>37805103</td>\n",
       "      <td>-122412856</td>\n",
       "      <td>12/4/15</td>\n",
       "      <td>...</td>\n",
       "      <td>550.0</td>\n",
       "      <td>sqft</td>\n",
       "      <td>NaN</td>\n",
       "      <td>NaN</td>\n",
       "      <td>1980.0</td>\n",
       "    </tr>\n",
       "    <tr>\n",
       "      <th>1</th>\n",
       "      <td>15063505</td>\n",
       "      <td>740 Francisco St, San Francisco, CA</td>\n",
       "      <td>37804420</td>\n",
       "      <td>-122417389</td>\n",
       "      <td>11/30/15</td>\n",
       "      <td>...</td>\n",
       "      <td>1430.0</td>\n",
       "      <td>sqft</td>\n",
       "      <td>2435.0</td>\n",
       "      <td>sqft</td>\n",
       "      <td>1948.0</td>\n",
       "    </tr>\n",
       "    <tr>\n",
       "      <th>2</th>\n",
       "      <td>15063609</td>\n",
       "      <td>819 Francisco St, San Francisco, CA</td>\n",
       "      <td>37803728</td>\n",
       "      <td>-122419055</td>\n",
       "      <td>11/12/15</td>\n",
       "      <td>...</td>\n",
       "      <td>2040.0</td>\n",
       "      <td>sqft</td>\n",
       "      <td>3920.0</td>\n",
       "      <td>sqft</td>\n",
       "      <td>1976.0</td>\n",
       "    </tr>\n",
       "    <tr>\n",
       "      <th>...</th>\n",
       "      <td>...</td>\n",
       "      <td>...</td>\n",
       "      <td>...</td>\n",
       "      <td>...</td>\n",
       "      <td>...</td>\n",
       "      <td>...</td>\n",
       "      <td>...</td>\n",
       "      <td>...</td>\n",
       "      <td>...</td>\n",
       "      <td>...</td>\n",
       "      <td>...</td>\n",
       "    </tr>\n",
       "    <tr>\n",
       "      <th>997</th>\n",
       "      <td>2128308939</td>\n",
       "      <td>33 Santa Cruz Ave, San Francisco, CA</td>\n",
       "      <td>37709136</td>\n",
       "      <td>-122465332</td>\n",
       "      <td>12/10/15</td>\n",
       "      <td>...</td>\n",
       "      <td>1738.0</td>\n",
       "      <td>sqft</td>\n",
       "      <td>2299.0</td>\n",
       "      <td>sqft</td>\n",
       "      <td>1976.0</td>\n",
       "    </tr>\n",
       "    <tr>\n",
       "      <th>998</th>\n",
       "      <td>2131957929</td>\n",
       "      <td>1821 Grant Ave, San Francisco, CA</td>\n",
       "      <td>37803760</td>\n",
       "      <td>-122408531</td>\n",
       "      <td>12/15/15</td>\n",
       "      <td>...</td>\n",
       "      <td>1048.0</td>\n",
       "      <td>sqft</td>\n",
       "      <td>NaN</td>\n",
       "      <td>NaN</td>\n",
       "      <td>1975.0</td>\n",
       "    </tr>\n",
       "    <tr>\n",
       "      <th>999</th>\n",
       "      <td>2136213970</td>\n",
       "      <td>1200 Gough St, San Francisco, CA</td>\n",
       "      <td>37784770</td>\n",
       "      <td>-122424100</td>\n",
       "      <td>1/10/16</td>\n",
       "      <td>...</td>\n",
       "      <td>900.0</td>\n",
       "      <td>sqft</td>\n",
       "      <td>NaN</td>\n",
       "      <td>NaN</td>\n",
       "      <td>1966.0</td>\n",
       "    </tr>\n",
       "  </tbody>\n",
       "</table>\n",
       "<p>1000 rows × 15 columns</p>\n",
       "</div>"
      ],
      "text/plain": [
       "             ID                                    Address  Latitude  \\\n",
       "0      15063471  55 Vandewater St APT 9, San Francisco, CA  37805103   \n",
       "1      15063505        740 Francisco St, San Francisco, CA  37804420   \n",
       "2      15063609        819 Francisco St, San Francisco, CA  37803728   \n",
       "..          ...                                        ...       ...   \n",
       "997  2128308939       33 Santa Cruz Ave, San Francisco, CA  37709136   \n",
       "998  2131957929          1821 Grant Ave, San Francisco, CA  37803760   \n",
       "999  2136213970           1200 Gough St, San Francisco, CA  37784770   \n",
       "\n",
       "     Longitude DateOfSale     ...         Size SizeUnit LotSize  LotSizeUnit  \\\n",
       "0   -122412856    12/4/15     ...        550.0     sqft     NaN          NaN   \n",
       "1   -122417389   11/30/15     ...       1430.0     sqft  2435.0         sqft   \n",
       "2   -122419055   11/12/15     ...       2040.0     sqft  3920.0         sqft   \n",
       "..         ...        ...     ...          ...      ...     ...          ...   \n",
       "997 -122465332   12/10/15     ...       1738.0     sqft  2299.0         sqft   \n",
       "998 -122408531   12/15/15     ...       1048.0     sqft     NaN          NaN   \n",
       "999 -122424100    1/10/16     ...        900.0     sqft     NaN          NaN   \n",
       "\n",
       "     BuiltInYear  \n",
       "0         1980.0  \n",
       "1         1948.0  \n",
       "2         1976.0  \n",
       "..           ...  \n",
       "997       1976.0  \n",
       "998       1975.0  \n",
       "999       1966.0  \n",
       "\n",
       "[1000 rows x 15 columns]"
      ]
     },
     "execution_count": 10,
     "metadata": {},
     "output_type": "execute_result"
    }
   ],
   "source": [
    "df"
   ]
  },
  {
   "cell_type": "code",
   "execution_count": 11,
   "metadata": {
    "collapsed": false
   },
   "outputs": [
    {
     "data": {
      "text/plain": [
       "(1000, 15)"
      ]
     },
     "execution_count": 11,
     "metadata": {},
     "output_type": "execute_result"
    }
   ],
   "source": [
    "df.shape"
   ]
  },
  {
   "cell_type": "code",
   "execution_count": 12,
   "metadata": {
    "collapsed": false
   },
   "outputs": [
    {
     "data": {
      "text/plain": [
       "1000"
      ]
     },
     "execution_count": 12,
     "metadata": {},
     "output_type": "execute_result"
    }
   ],
   "source": [
    "df.shape[0]"
   ]
  },
  {
   "cell_type": "code",
   "execution_count": 13,
   "metadata": {
    "collapsed": false
   },
   "outputs": [
    {
     "data": {
      "text/plain": [
       "15"
      ]
     },
     "execution_count": 13,
     "metadata": {},
     "output_type": "execute_result"
    }
   ],
   "source": [
    "df.shape[1]"
   ]
  },
  {
   "cell_type": "code",
   "execution_count": 14,
   "metadata": {
    "collapsed": false
   },
   "outputs": [
    {
     "data": {
      "text/plain": [
       "1000"
      ]
     },
     "execution_count": 14,
     "metadata": {},
     "output_type": "execute_result"
    }
   ],
   "source": [
    "len(df)"
   ]
  },
  {
   "cell_type": "code",
   "execution_count": 15,
   "metadata": {
    "collapsed": false
   },
   "outputs": [
    {
     "data": {
      "text/plain": [
       "RangeIndex(start=0, stop=1000, step=1)"
      ]
     },
     "execution_count": 15,
     "metadata": {},
     "output_type": "execute_result"
    }
   ],
   "source": [
    "df.index"
   ]
  },
  {
   "cell_type": "code",
   "execution_count": 16,
   "metadata": {
    "collapsed": false
   },
   "outputs": [
    {
     "data": {
      "text/plain": [
       "Index([u'ID', u'Address', u'Latitude', u'Longitude', u'DateOfSale',\n",
       "       u'SalePrice', u'SalePriceUnit', u'IsAStudio', u'BedCount', u'BathCount',\n",
       "       u'Size', u'SizeUnit', u'LotSize', u'LotSizeUnit', u'BuiltInYear'],\n",
       "      dtype='object')"
      ]
     },
     "execution_count": 16,
     "metadata": {},
     "output_type": "execute_result"
    }
   ],
   "source": [
    "df.columns"
   ]
  },
  {
   "cell_type": "code",
   "execution_count": 17,
   "metadata": {
    "collapsed": false
   },
   "outputs": [
    {
     "data": {
      "text/html": [
       "<div>\n",
       "<table border=\"1\" class=\"dataframe\">\n",
       "  <thead>\n",
       "    <tr style=\"text-align: right;\">\n",
       "      <th></th>\n",
       "      <th>SalePrice</th>\n",
       "      <th>SalePriceUnit</th>\n",
       "    </tr>\n",
       "  </thead>\n",
       "  <tbody>\n",
       "    <tr>\n",
       "      <th>0</th>\n",
       "      <td>710000.00</td>\n",
       "      <td>$</td>\n",
       "    </tr>\n",
       "    <tr>\n",
       "      <th>1</th>\n",
       "      <td>2.15</td>\n",
       "      <td>$M</td>\n",
       "    </tr>\n",
       "    <tr>\n",
       "      <th>2</th>\n",
       "      <td>5.60</td>\n",
       "      <td>$M</td>\n",
       "    </tr>\n",
       "    <tr>\n",
       "      <th>...</th>\n",
       "      <td>...</td>\n",
       "      <td>...</td>\n",
       "    </tr>\n",
       "    <tr>\n",
       "      <th>997</th>\n",
       "      <td>830000.00</td>\n",
       "      <td>$</td>\n",
       "    </tr>\n",
       "    <tr>\n",
       "      <th>998</th>\n",
       "      <td>835000.00</td>\n",
       "      <td>$</td>\n",
       "    </tr>\n",
       "    <tr>\n",
       "      <th>999</th>\n",
       "      <td>825000.00</td>\n",
       "      <td>$</td>\n",
       "    </tr>\n",
       "  </tbody>\n",
       "</table>\n",
       "<p>1000 rows × 2 columns</p>\n",
       "</div>"
      ],
      "text/plain": [
       "     SalePrice SalePriceUnit\n",
       "0    710000.00             $\n",
       "1         2.15            $M\n",
       "2         5.60            $M\n",
       "..         ...           ...\n",
       "997  830000.00             $\n",
       "998  835000.00             $\n",
       "999  825000.00             $\n",
       "\n",
       "[1000 rows x 2 columns]"
      ]
     },
     "execution_count": 17,
     "metadata": {},
     "output_type": "execute_result"
    }
   ],
   "source": [
    "df[ [5, 6] ]"
   ]
  },
  {
   "cell_type": "code",
   "execution_count": 18,
   "metadata": {
    "collapsed": false
   },
   "outputs": [
    {
     "data": {
      "text/plain": [
       "pandas.core.frame.DataFrame"
      ]
     },
     "execution_count": 18,
     "metadata": {},
     "output_type": "execute_result"
    }
   ],
   "source": [
    "type(df[ [5, 6] ])"
   ]
  },
  {
   "cell_type": "code",
   "execution_count": 19,
   "metadata": {
    "collapsed": false
   },
   "outputs": [
    {
     "data": {
      "text/html": [
       "<div>\n",
       "<table border=\"1\" class=\"dataframe\">\n",
       "  <thead>\n",
       "    <tr style=\"text-align: right;\">\n",
       "      <th></th>\n",
       "      <th>IsAStudio</th>\n",
       "    </tr>\n",
       "  </thead>\n",
       "  <tbody>\n",
       "    <tr>\n",
       "      <th>0</th>\n",
       "      <td>False</td>\n",
       "    </tr>\n",
       "    <tr>\n",
       "      <th>1</th>\n",
       "      <td>False</td>\n",
       "    </tr>\n",
       "    <tr>\n",
       "      <th>2</th>\n",
       "      <td>False</td>\n",
       "    </tr>\n",
       "    <tr>\n",
       "      <th>...</th>\n",
       "      <td>...</td>\n",
       "    </tr>\n",
       "    <tr>\n",
       "      <th>997</th>\n",
       "      <td>False</td>\n",
       "    </tr>\n",
       "    <tr>\n",
       "      <th>998</th>\n",
       "      <td>False</td>\n",
       "    </tr>\n",
       "    <tr>\n",
       "      <th>999</th>\n",
       "      <td>False</td>\n",
       "    </tr>\n",
       "  </tbody>\n",
       "</table>\n",
       "<p>1000 rows × 1 columns</p>\n",
       "</div>"
      ],
      "text/plain": [
       "    IsAStudio\n",
       "0       False\n",
       "1       False\n",
       "2       False\n",
       "..        ...\n",
       "997     False\n",
       "998     False\n",
       "999     False\n",
       "\n",
       "[1000 rows x 1 columns]"
      ]
     },
     "execution_count": 19,
     "metadata": {},
     "output_type": "execute_result"
    }
   ],
   "source": [
    "df[ [7] ]"
   ]
  },
  {
   "cell_type": "code",
   "execution_count": 20,
   "metadata": {
    "collapsed": false
   },
   "outputs": [
    {
     "data": {
      "text/plain": [
       "pandas.core.frame.DataFrame"
      ]
     },
     "execution_count": 20,
     "metadata": {},
     "output_type": "execute_result"
    }
   ],
   "source": [
    "type(df[ [7,] ])"
   ]
  },
  {
   "cell_type": "code",
   "execution_count": 21,
   "metadata": {
    "collapsed": false
   },
   "outputs": [
    {
     "data": {
      "text/html": [
       "<div>\n",
       "<table border=\"1\" class=\"dataframe\">\n",
       "  <thead>\n",
       "    <tr style=\"text-align: right;\">\n",
       "      <th></th>\n",
       "      <th>SalePrice</th>\n",
       "      <th>SalePriceUnit</th>\n",
       "    </tr>\n",
       "  </thead>\n",
       "  <tbody>\n",
       "    <tr>\n",
       "      <th>0</th>\n",
       "      <td>710000.00</td>\n",
       "      <td>$</td>\n",
       "    </tr>\n",
       "    <tr>\n",
       "      <th>1</th>\n",
       "      <td>2.15</td>\n",
       "      <td>$M</td>\n",
       "    </tr>\n",
       "    <tr>\n",
       "      <th>2</th>\n",
       "      <td>5.60</td>\n",
       "      <td>$M</td>\n",
       "    </tr>\n",
       "    <tr>\n",
       "      <th>...</th>\n",
       "      <td>...</td>\n",
       "      <td>...</td>\n",
       "    </tr>\n",
       "    <tr>\n",
       "      <th>997</th>\n",
       "      <td>830000.00</td>\n",
       "      <td>$</td>\n",
       "    </tr>\n",
       "    <tr>\n",
       "      <th>998</th>\n",
       "      <td>835000.00</td>\n",
       "      <td>$</td>\n",
       "    </tr>\n",
       "    <tr>\n",
       "      <th>999</th>\n",
       "      <td>825000.00</td>\n",
       "      <td>$</td>\n",
       "    </tr>\n",
       "  </tbody>\n",
       "</table>\n",
       "<p>1000 rows × 2 columns</p>\n",
       "</div>"
      ],
      "text/plain": [
       "     SalePrice SalePriceUnit\n",
       "0    710000.00             $\n",
       "1         2.15            $M\n",
       "2         5.60            $M\n",
       "..         ...           ...\n",
       "997  830000.00             $\n",
       "998  835000.00             $\n",
       "999  825000.00             $\n",
       "\n",
       "[1000 rows x 2 columns]"
      ]
     },
     "execution_count": 21,
     "metadata": {},
     "output_type": "execute_result"
    }
   ],
   "source": [
    "df[ ['SalePrice', 'SalePriceUnit'] ]"
   ]
  },
  {
   "cell_type": "code",
   "execution_count": 23,
   "metadata": {
    "collapsed": true
   },
   "outputs": [],
   "source": [
    "# \"df[ ['SalePrice', 6] ]"
   ]
  },
  {
   "cell_type": "code",
   "execution_count": 24,
   "metadata": {
    "collapsed": false
   },
   "outputs": [
    {
     "data": {
      "text/plain": [
       "0      55 Vandewater St APT 9, San Francisco, CA\n",
       "1            740 Francisco St, San Francisco, CA\n",
       "2            819 Francisco St, San Francisco, CA\n",
       "                         ...                    \n",
       "997         33 Santa Cruz Ave, San Francisco, CA\n",
       "998            1821 Grant Ave, San Francisco, CA\n",
       "999             1200 Gough St, San Francisco, CA\n",
       "Name: Address, dtype: object"
      ]
     },
     "execution_count": 24,
     "metadata": {},
     "output_type": "execute_result"
    }
   ],
   "source": [
    "df['Address']"
   ]
  },
  {
   "cell_type": "code",
   "execution_count": 25,
   "metadata": {
    "collapsed": false
   },
   "outputs": [
    {
     "data": {
      "text/plain": [
       "pandas.core.series.Series"
      ]
     },
     "execution_count": 25,
     "metadata": {},
     "output_type": "execute_result"
    }
   ],
   "source": [
    "type(df['Address'])"
   ]
  },
  {
   "cell_type": "code",
   "execution_count": 26,
   "metadata": {
    "collapsed": false
   },
   "outputs": [
    {
     "data": {
      "text/plain": [
       "0      55 Vandewater St APT 9, San Francisco, CA\n",
       "1            740 Francisco St, San Francisco, CA\n",
       "2            819 Francisco St, San Francisco, CA\n",
       "                         ...                    \n",
       "997         33 Santa Cruz Ave, San Francisco, CA\n",
       "998            1821 Grant Ave, San Francisco, CA\n",
       "999             1200 Gough St, San Francisco, CA\n",
       "Name: Address, dtype: object"
      ]
     },
     "execution_count": 26,
     "metadata": {},
     "output_type": "execute_result"
    }
   ],
   "source": [
    "df.Address"
   ]
  },
  {
   "cell_type": "code",
   "execution_count": 27,
   "metadata": {
    "collapsed": false
   },
   "outputs": [
    {
     "data": {
      "text/plain": [
       "'Address'"
      ]
     },
     "execution_count": 27,
     "metadata": {},
     "output_type": "execute_result"
    }
   ],
   "source": [
    "df.Address.name"
   ]
  },
  {
   "cell_type": "code",
   "execution_count": 28,
   "metadata": {
    "collapsed": false
   },
   "outputs": [
    {
     "data": {
      "text/plain": [
       "8"
      ]
     },
     "execution_count": 28,
     "metadata": {},
     "output_type": "execute_result"
    }
   ],
   "source": [
    "df.columns.get_loc('BedCount')"
   ]
  },
  {
   "cell_type": "code",
   "execution_count": 29,
   "metadata": {
    "collapsed": false
   },
   "outputs": [
    {
     "data": {
      "text/html": [
       "<div>\n",
       "<table border=\"1\" class=\"dataframe\">\n",
       "  <thead>\n",
       "    <tr style=\"text-align: right;\">\n",
       "      <th></th>\n",
       "      <th>BedCount</th>\n",
       "    </tr>\n",
       "  </thead>\n",
       "  <tbody>\n",
       "    <tr>\n",
       "      <th>0</th>\n",
       "      <td>1.0</td>\n",
       "    </tr>\n",
       "    <tr>\n",
       "      <th>1</th>\n",
       "      <td>NaN</td>\n",
       "    </tr>\n",
       "    <tr>\n",
       "      <th>2</th>\n",
       "      <td>2.0</td>\n",
       "    </tr>\n",
       "    <tr>\n",
       "      <th>...</th>\n",
       "      <td>...</td>\n",
       "    </tr>\n",
       "    <tr>\n",
       "      <th>997</th>\n",
       "      <td>3.0</td>\n",
       "    </tr>\n",
       "    <tr>\n",
       "      <th>998</th>\n",
       "      <td>2.0</td>\n",
       "    </tr>\n",
       "    <tr>\n",
       "      <th>999</th>\n",
       "      <td>1.0</td>\n",
       "    </tr>\n",
       "  </tbody>\n",
       "</table>\n",
       "<p>1000 rows × 1 columns</p>\n",
       "</div>"
      ],
      "text/plain": [
       "     BedCount\n",
       "0         1.0\n",
       "1         NaN\n",
       "2         2.0\n",
       "..        ...\n",
       "997       3.0\n",
       "998       2.0\n",
       "999       1.0\n",
       "\n",
       "[1000 rows x 1 columns]"
      ]
     },
     "execution_count": 29,
     "metadata": {},
     "output_type": "execute_result"
    }
   ],
   "source": [
    "df[ [df.columns.get_loc('BedCount')] ]"
   ]
  },
  {
   "cell_type": "code",
   "execution_count": 30,
   "metadata": {
    "collapsed": false
   },
   "outputs": [
    {
     "data": {
      "text/html": [
       "<div>\n",
       "<table border=\"1\" class=\"dataframe\">\n",
       "  <thead>\n",
       "    <tr style=\"text-align: right;\">\n",
       "      <th></th>\n",
       "      <th>BedCount</th>\n",
       "    </tr>\n",
       "  </thead>\n",
       "  <tbody>\n",
       "    <tr>\n",
       "      <th>0</th>\n",
       "      <td>1.0</td>\n",
       "    </tr>\n",
       "    <tr>\n",
       "      <th>1</th>\n",
       "      <td>NaN</td>\n",
       "    </tr>\n",
       "    <tr>\n",
       "      <th>2</th>\n",
       "      <td>2.0</td>\n",
       "    </tr>\n",
       "    <tr>\n",
       "      <th>...</th>\n",
       "      <td>...</td>\n",
       "    </tr>\n",
       "    <tr>\n",
       "      <th>997</th>\n",
       "      <td>3.0</td>\n",
       "    </tr>\n",
       "    <tr>\n",
       "      <th>998</th>\n",
       "      <td>2.0</td>\n",
       "    </tr>\n",
       "    <tr>\n",
       "      <th>999</th>\n",
       "      <td>1.0</td>\n",
       "    </tr>\n",
       "  </tbody>\n",
       "</table>\n",
       "<p>1000 rows × 1 columns</p>\n",
       "</div>"
      ],
      "text/plain": [
       "     BedCount\n",
       "0         1.0\n",
       "1         NaN\n",
       "2         2.0\n",
       "..        ...\n",
       "997       3.0\n",
       "998       2.0\n",
       "999       1.0\n",
       "\n",
       "[1000 rows x 1 columns]"
      ]
     },
     "execution_count": 30,
     "metadata": {},
     "output_type": "execute_result"
    }
   ],
   "source": [
    "df[ ['BedCount'] ]"
   ]
  },
  {
   "cell_type": "code",
   "execution_count": 31,
   "metadata": {
    "collapsed": false
   },
   "outputs": [
    {
     "data": {
      "text/html": [
       "<div>\n",
       "<table border=\"1\" class=\"dataframe\">\n",
       "  <thead>\n",
       "    <tr style=\"text-align: right;\">\n",
       "      <th></th>\n",
       "      <th>ID</th>\n",
       "      <th>Address</th>\n",
       "      <th>Latitude</th>\n",
       "      <th>Longitude</th>\n",
       "      <th>DateOfSale</th>\n",
       "      <th>...</th>\n",
       "      <th>Size</th>\n",
       "      <th>SizeUnit</th>\n",
       "      <th>LotSize</th>\n",
       "      <th>LotSizeUnit</th>\n",
       "      <th>BuiltInYear</th>\n",
       "    </tr>\n",
       "  </thead>\n",
       "  <tbody>\n",
       "    <tr>\n",
       "      <th>0</th>\n",
       "      <td>15063471</td>\n",
       "      <td>55 Vandewater St APT 9, San Francisco, CA</td>\n",
       "      <td>37805103</td>\n",
       "      <td>-122412856</td>\n",
       "      <td>12/4/15</td>\n",
       "      <td>...</td>\n",
       "      <td>550.0</td>\n",
       "      <td>sqft</td>\n",
       "      <td>NaN</td>\n",
       "      <td>NaN</td>\n",
       "      <td>1980.0</td>\n",
       "    </tr>\n",
       "    <tr>\n",
       "      <th>1</th>\n",
       "      <td>15063505</td>\n",
       "      <td>740 Francisco St, San Francisco, CA</td>\n",
       "      <td>37804420</td>\n",
       "      <td>-122417389</td>\n",
       "      <td>11/30/15</td>\n",
       "      <td>...</td>\n",
       "      <td>1430.0</td>\n",
       "      <td>sqft</td>\n",
       "      <td>2435.0</td>\n",
       "      <td>sqft</td>\n",
       "      <td>1948.0</td>\n",
       "    </tr>\n",
       "    <tr>\n",
       "      <th>2</th>\n",
       "      <td>15063609</td>\n",
       "      <td>819 Francisco St, San Francisco, CA</td>\n",
       "      <td>37803728</td>\n",
       "      <td>-122419055</td>\n",
       "      <td>11/12/15</td>\n",
       "      <td>...</td>\n",
       "      <td>2040.0</td>\n",
       "      <td>sqft</td>\n",
       "      <td>3920.0</td>\n",
       "      <td>sqft</td>\n",
       "      <td>1976.0</td>\n",
       "    </tr>\n",
       "    <tr>\n",
       "      <th>3</th>\n",
       "      <td>15064044</td>\n",
       "      <td>199 Chestnut St APT 5, San Francisco, CA</td>\n",
       "      <td>37804392</td>\n",
       "      <td>-122406590</td>\n",
       "      <td>12/11/15</td>\n",
       "      <td>...</td>\n",
       "      <td>1060.0</td>\n",
       "      <td>sqft</td>\n",
       "      <td>NaN</td>\n",
       "      <td>NaN</td>\n",
       "      <td>1930.0</td>\n",
       "    </tr>\n",
       "    <tr>\n",
       "      <th>4</th>\n",
       "      <td>15064257</td>\n",
       "      <td>111 Chestnut St APT 403, San Francisco, CA</td>\n",
       "      <td>37804240</td>\n",
       "      <td>-122405509</td>\n",
       "      <td>1/15/16</td>\n",
       "      <td>...</td>\n",
       "      <td>1299.0</td>\n",
       "      <td>sqft</td>\n",
       "      <td>NaN</td>\n",
       "      <td>NaN</td>\n",
       "      <td>1993.0</td>\n",
       "    </tr>\n",
       "  </tbody>\n",
       "</table>\n",
       "<p>5 rows × 15 columns</p>\n",
       "</div>"
      ],
      "text/plain": [
       "         ID                                     Address  Latitude  Longitude  \\\n",
       "0  15063471   55 Vandewater St APT 9, San Francisco, CA  37805103 -122412856   \n",
       "1  15063505         740 Francisco St, San Francisco, CA  37804420 -122417389   \n",
       "2  15063609         819 Francisco St, San Francisco, CA  37803728 -122419055   \n",
       "3  15064044    199 Chestnut St APT 5, San Francisco, CA  37804392 -122406590   \n",
       "4  15064257  111 Chestnut St APT 403, San Francisco, CA  37804240 -122405509   \n",
       "\n",
       "  DateOfSale     ...         Size SizeUnit LotSize  LotSizeUnit  BuiltInYear  \n",
       "0    12/4/15     ...        550.0     sqft     NaN          NaN       1980.0  \n",
       "1   11/30/15     ...       1430.0     sqft  2435.0         sqft       1948.0  \n",
       "2   11/12/15     ...       2040.0     sqft  3920.0         sqft       1976.0  \n",
       "3   12/11/15     ...       1060.0     sqft     NaN          NaN       1930.0  \n",
       "4    1/15/16     ...       1299.0     sqft     NaN          NaN       1993.0  \n",
       "\n",
       "[5 rows x 15 columns]"
      ]
     },
     "execution_count": 31,
     "metadata": {},
     "output_type": "execute_result"
    }
   ],
   "source": [
    "df[:5]"
   ]
  },
  {
   "cell_type": "code",
   "execution_count": 32,
   "metadata": {
    "collapsed": true
   },
   "outputs": [],
   "source": [
    "df = df.set_index('ID')"
   ]
  },
  {
   "cell_type": "code",
   "execution_count": 33,
   "metadata": {
    "collapsed": false
   },
   "outputs": [
    {
     "data": {
      "text/plain": [
       "Int64Index([  15063471,   15063505,   15063609,   15064044,   15064257,\n",
       "              15064295,   15064391,   15064536,   15064640,   15064669,\n",
       "            ...\n",
       "            2108546010, 2114498518, 2121221385, 2121978635, 2122992200,\n",
       "            2124214951, 2126960082, 2128308939, 2131957929, 2136213970],\n",
       "           dtype='int64', name=u'ID', length=1000)"
      ]
     },
     "execution_count": 33,
     "metadata": {},
     "output_type": "execute_result"
    }
   ],
   "source": [
    "df.index"
   ]
  },
  {
   "cell_type": "code",
   "execution_count": 34,
   "metadata": {
    "collapsed": false
   },
   "outputs": [
    {
     "data": {
      "text/html": [
       "<div>\n",
       "<table border=\"1\" class=\"dataframe\">\n",
       "  <thead>\n",
       "    <tr style=\"text-align: right;\">\n",
       "      <th></th>\n",
       "      <th>Address</th>\n",
       "      <th>Latitude</th>\n",
       "      <th>Longitude</th>\n",
       "      <th>DateOfSale</th>\n",
       "      <th>SalePrice</th>\n",
       "      <th>...</th>\n",
       "      <th>Size</th>\n",
       "      <th>SizeUnit</th>\n",
       "      <th>LotSize</th>\n",
       "      <th>LotSizeUnit</th>\n",
       "      <th>BuiltInYear</th>\n",
       "    </tr>\n",
       "    <tr>\n",
       "      <th>ID</th>\n",
       "      <th></th>\n",
       "      <th></th>\n",
       "      <th></th>\n",
       "      <th></th>\n",
       "      <th></th>\n",
       "      <th></th>\n",
       "      <th></th>\n",
       "      <th></th>\n",
       "      <th></th>\n",
       "      <th></th>\n",
       "      <th></th>\n",
       "    </tr>\n",
       "  </thead>\n",
       "  <tbody>\n",
       "    <tr>\n",
       "      <th>15063471</th>\n",
       "      <td>55 Vandewater St APT 9, San Francisco, CA</td>\n",
       "      <td>37805103</td>\n",
       "      <td>-122412856</td>\n",
       "      <td>12/4/15</td>\n",
       "      <td>710000.00</td>\n",
       "      <td>...</td>\n",
       "      <td>550.0</td>\n",
       "      <td>sqft</td>\n",
       "      <td>NaN</td>\n",
       "      <td>NaN</td>\n",
       "      <td>1980.0</td>\n",
       "    </tr>\n",
       "    <tr>\n",
       "      <th>15063505</th>\n",
       "      <td>740 Francisco St, San Francisco, CA</td>\n",
       "      <td>37804420</td>\n",
       "      <td>-122417389</td>\n",
       "      <td>11/30/15</td>\n",
       "      <td>2.15</td>\n",
       "      <td>...</td>\n",
       "      <td>1430.0</td>\n",
       "      <td>sqft</td>\n",
       "      <td>2435.0</td>\n",
       "      <td>sqft</td>\n",
       "      <td>1948.0</td>\n",
       "    </tr>\n",
       "    <tr>\n",
       "      <th>15063609</th>\n",
       "      <td>819 Francisco St, San Francisco, CA</td>\n",
       "      <td>37803728</td>\n",
       "      <td>-122419055</td>\n",
       "      <td>11/12/15</td>\n",
       "      <td>5.60</td>\n",
       "      <td>...</td>\n",
       "      <td>2040.0</td>\n",
       "      <td>sqft</td>\n",
       "      <td>3920.0</td>\n",
       "      <td>sqft</td>\n",
       "      <td>1976.0</td>\n",
       "    </tr>\n",
       "    <tr>\n",
       "      <th>...</th>\n",
       "      <td>...</td>\n",
       "      <td>...</td>\n",
       "      <td>...</td>\n",
       "      <td>...</td>\n",
       "      <td>...</td>\n",
       "      <td>...</td>\n",
       "      <td>...</td>\n",
       "      <td>...</td>\n",
       "      <td>...</td>\n",
       "      <td>...</td>\n",
       "      <td>...</td>\n",
       "    </tr>\n",
       "    <tr>\n",
       "      <th>2128308939</th>\n",
       "      <td>33 Santa Cruz Ave, San Francisco, CA</td>\n",
       "      <td>37709136</td>\n",
       "      <td>-122465332</td>\n",
       "      <td>12/10/15</td>\n",
       "      <td>830000.00</td>\n",
       "      <td>...</td>\n",
       "      <td>1738.0</td>\n",
       "      <td>sqft</td>\n",
       "      <td>2299.0</td>\n",
       "      <td>sqft</td>\n",
       "      <td>1976.0</td>\n",
       "    </tr>\n",
       "    <tr>\n",
       "      <th>2131957929</th>\n",
       "      <td>1821 Grant Ave, San Francisco, CA</td>\n",
       "      <td>37803760</td>\n",
       "      <td>-122408531</td>\n",
       "      <td>12/15/15</td>\n",
       "      <td>835000.00</td>\n",
       "      <td>...</td>\n",
       "      <td>1048.0</td>\n",
       "      <td>sqft</td>\n",
       "      <td>NaN</td>\n",
       "      <td>NaN</td>\n",
       "      <td>1975.0</td>\n",
       "    </tr>\n",
       "    <tr>\n",
       "      <th>2136213970</th>\n",
       "      <td>1200 Gough St, San Francisco, CA</td>\n",
       "      <td>37784770</td>\n",
       "      <td>-122424100</td>\n",
       "      <td>1/10/16</td>\n",
       "      <td>825000.00</td>\n",
       "      <td>...</td>\n",
       "      <td>900.0</td>\n",
       "      <td>sqft</td>\n",
       "      <td>NaN</td>\n",
       "      <td>NaN</td>\n",
       "      <td>1966.0</td>\n",
       "    </tr>\n",
       "  </tbody>\n",
       "</table>\n",
       "<p>1000 rows × 14 columns</p>\n",
       "</div>"
      ],
      "text/plain": [
       "                                              Address  Latitude  Longitude  \\\n",
       "ID                                                                           \n",
       "15063471    55 Vandewater St APT 9, San Francisco, CA  37805103 -122412856   \n",
       "15063505          740 Francisco St, San Francisco, CA  37804420 -122417389   \n",
       "15063609          819 Francisco St, San Francisco, CA  37803728 -122419055   \n",
       "...                                               ...       ...        ...   \n",
       "2128308939       33 Santa Cruz Ave, San Francisco, CA  37709136 -122465332   \n",
       "2131957929          1821 Grant Ave, San Francisco, CA  37803760 -122408531   \n",
       "2136213970           1200 Gough St, San Francisco, CA  37784770 -122424100   \n",
       "\n",
       "           DateOfSale  SalePrice     ...         Size SizeUnit  LotSize  \\\n",
       "ID                                   ...                                  \n",
       "15063471      12/4/15  710000.00     ...        550.0     sqft      NaN   \n",
       "15063505     11/30/15       2.15     ...       1430.0     sqft   2435.0   \n",
       "15063609     11/12/15       5.60     ...       2040.0     sqft   3920.0   \n",
       "...               ...        ...     ...          ...      ...      ...   \n",
       "2128308939   12/10/15  830000.00     ...       1738.0     sqft   2299.0   \n",
       "2131957929   12/15/15  835000.00     ...       1048.0     sqft      NaN   \n",
       "2136213970    1/10/16  825000.00     ...        900.0     sqft      NaN   \n",
       "\n",
       "            LotSizeUnit  BuiltInYear  \n",
       "ID                                    \n",
       "15063471            NaN       1980.0  \n",
       "15063505           sqft       1948.0  \n",
       "15063609           sqft       1976.0  \n",
       "...                 ...          ...  \n",
       "2128308939         sqft       1976.0  \n",
       "2131957929          NaN       1975.0  \n",
       "2136213970          NaN       1966.0  \n",
       "\n",
       "[1000 rows x 14 columns]"
      ]
     },
     "execution_count": 34,
     "metadata": {},
     "output_type": "execute_result"
    }
   ],
   "source": [
    "df"
   ]
  },
  {
   "cell_type": "code",
   "execution_count": 36,
   "metadata": {
    "collapsed": false
   },
   "outputs": [
    {
     "data": {
      "text/plain": [
       "Address        740 Francisco St, San Francisco, CA\n",
       "Latitude                                  37804420\n",
       "Longitude                               -122417389\n",
       "                              ...                 \n",
       "LotSize                                       2435\n",
       "LotSizeUnit                                   sqft\n",
       "BuiltInYear                                   1948\n",
       "Name: 15063505, dtype: object"
      ]
     },
     "execution_count": 36,
     "metadata": {},
     "output_type": "execute_result"
    }
   ],
   "source": [
    "df.loc[15063505]"
   ]
  },
  {
   "cell_type": "code",
   "execution_count": 37,
   "metadata": {
    "collapsed": false
   },
   "outputs": [
    {
     "data": {
      "text/plain": [
       "pandas.core.series.Series"
      ]
     },
     "execution_count": 37,
     "metadata": {},
     "output_type": "execute_result"
    }
   ],
   "source": [
    "type(df.loc[15063505])"
   ]
  },
  {
   "cell_type": "code",
   "execution_count": 38,
   "metadata": {
    "collapsed": false
   },
   "outputs": [
    {
     "data": {
      "text/plain": [
       "15063505"
      ]
     },
     "execution_count": 38,
     "metadata": {},
     "output_type": "execute_result"
    }
   ],
   "source": [
    "df.loc[15063505].name"
   ]
  },
  {
   "cell_type": "code",
   "execution_count": 39,
   "metadata": {
    "collapsed": false
   },
   "outputs": [
    {
     "data": {
      "text/html": [
       "<div>\n",
       "<table border=\"1\" class=\"dataframe\">\n",
       "  <thead>\n",
       "    <tr style=\"text-align: right;\">\n",
       "      <th></th>\n",
       "      <th>Address</th>\n",
       "      <th>Latitude</th>\n",
       "      <th>Longitude</th>\n",
       "      <th>DateOfSale</th>\n",
       "      <th>SalePrice</th>\n",
       "      <th>...</th>\n",
       "      <th>Size</th>\n",
       "      <th>SizeUnit</th>\n",
       "      <th>LotSize</th>\n",
       "      <th>LotSizeUnit</th>\n",
       "      <th>BuiltInYear</th>\n",
       "    </tr>\n",
       "    <tr>\n",
       "      <th>ID</th>\n",
       "      <th></th>\n",
       "      <th></th>\n",
       "      <th></th>\n",
       "      <th></th>\n",
       "      <th></th>\n",
       "      <th></th>\n",
       "      <th></th>\n",
       "      <th></th>\n",
       "      <th></th>\n",
       "      <th></th>\n",
       "      <th></th>\n",
       "    </tr>\n",
       "  </thead>\n",
       "  <tbody>\n",
       "    <tr>\n",
       "      <th>15063505</th>\n",
       "      <td>740 Francisco St, San Francisco, CA</td>\n",
       "      <td>37804420</td>\n",
       "      <td>-122417389</td>\n",
       "      <td>11/30/15</td>\n",
       "      <td>2.15</td>\n",
       "      <td>...</td>\n",
       "      <td>1430.0</td>\n",
       "      <td>sqft</td>\n",
       "      <td>2435.0</td>\n",
       "      <td>sqft</td>\n",
       "      <td>1948.0</td>\n",
       "    </tr>\n",
       "    <tr>\n",
       "      <th>15064044</th>\n",
       "      <td>199 Chestnut St APT 5, San Francisco, CA</td>\n",
       "      <td>37804392</td>\n",
       "      <td>-122406590</td>\n",
       "      <td>12/11/15</td>\n",
       "      <td>1.50</td>\n",
       "      <td>...</td>\n",
       "      <td>1060.0</td>\n",
       "      <td>sqft</td>\n",
       "      <td>NaN</td>\n",
       "      <td>NaN</td>\n",
       "      <td>1930.0</td>\n",
       "    </tr>\n",
       "  </tbody>\n",
       "</table>\n",
       "<p>2 rows × 14 columns</p>\n",
       "</div>"
      ],
      "text/plain": [
       "                                           Address  Latitude  Longitude  \\\n",
       "ID                                                                        \n",
       "15063505       740 Francisco St, San Francisco, CA  37804420 -122417389   \n",
       "15064044  199 Chestnut St APT 5, San Francisco, CA  37804392 -122406590   \n",
       "\n",
       "         DateOfSale  SalePrice     ...         Size SizeUnit  LotSize  \\\n",
       "ID                                 ...                                  \n",
       "15063505   11/30/15       2.15     ...       1430.0     sqft   2435.0   \n",
       "15064044   12/11/15       1.50     ...       1060.0     sqft      NaN   \n",
       "\n",
       "          LotSizeUnit  BuiltInYear  \n",
       "ID                                  \n",
       "15063505         sqft       1948.0  \n",
       "15064044          NaN       1930.0  \n",
       "\n",
       "[2 rows x 14 columns]"
      ]
     },
     "execution_count": 39,
     "metadata": {},
     "output_type": "execute_result"
    }
   ],
   "source": [
    "df.loc[ [15063505, 15064044] ]"
   ]
  },
  {
   "cell_type": "code",
   "execution_count": 40,
   "metadata": {
    "collapsed": false
   },
   "outputs": [
    {
     "data": {
      "text/html": [
       "<div>\n",
       "<table border=\"1\" class=\"dataframe\">\n",
       "  <thead>\n",
       "    <tr style=\"text-align: right;\">\n",
       "      <th></th>\n",
       "      <th>Address</th>\n",
       "      <th>Latitude</th>\n",
       "      <th>Longitude</th>\n",
       "      <th>DateOfSale</th>\n",
       "      <th>SalePrice</th>\n",
       "      <th>...</th>\n",
       "      <th>Size</th>\n",
       "      <th>SizeUnit</th>\n",
       "      <th>LotSize</th>\n",
       "      <th>LotSizeUnit</th>\n",
       "      <th>BuiltInYear</th>\n",
       "    </tr>\n",
       "    <tr>\n",
       "      <th>ID</th>\n",
       "      <th></th>\n",
       "      <th></th>\n",
       "      <th></th>\n",
       "      <th></th>\n",
       "      <th></th>\n",
       "      <th></th>\n",
       "      <th></th>\n",
       "      <th></th>\n",
       "      <th></th>\n",
       "      <th></th>\n",
       "      <th></th>\n",
       "    </tr>\n",
       "  </thead>\n",
       "  <tbody>\n",
       "    <tr>\n",
       "      <th>15063505</th>\n",
       "      <td>740 Francisco St, San Francisco, CA</td>\n",
       "      <td>37804420</td>\n",
       "      <td>-122417389</td>\n",
       "      <td>11/30/15</td>\n",
       "      <td>2.15</td>\n",
       "      <td>...</td>\n",
       "      <td>1430.0</td>\n",
       "      <td>sqft</td>\n",
       "      <td>2435.0</td>\n",
       "      <td>sqft</td>\n",
       "      <td>1948.0</td>\n",
       "    </tr>\n",
       "    <tr>\n",
       "      <th>15064044</th>\n",
       "      <td>199 Chestnut St APT 5, San Francisco, CA</td>\n",
       "      <td>37804392</td>\n",
       "      <td>-122406590</td>\n",
       "      <td>12/11/15</td>\n",
       "      <td>1.50</td>\n",
       "      <td>...</td>\n",
       "      <td>1060.0</td>\n",
       "      <td>sqft</td>\n",
       "      <td>NaN</td>\n",
       "      <td>NaN</td>\n",
       "      <td>1930.0</td>\n",
       "    </tr>\n",
       "  </tbody>\n",
       "</table>\n",
       "<p>2 rows × 14 columns</p>\n",
       "</div>"
      ],
      "text/plain": [
       "                                           Address  Latitude  Longitude  \\\n",
       "ID                                                                        \n",
       "15063505       740 Francisco St, San Francisco, CA  37804420 -122417389   \n",
       "15064044  199 Chestnut St APT 5, San Francisco, CA  37804392 -122406590   \n",
       "\n",
       "         DateOfSale  SalePrice     ...         Size SizeUnit  LotSize  \\\n",
       "ID                                 ...                                  \n",
       "15063505   11/30/15       2.15     ...       1430.0     sqft   2435.0   \n",
       "15064044   12/11/15       1.50     ...       1060.0     sqft      NaN   \n",
       "\n",
       "          LotSizeUnit  BuiltInYear  \n",
       "ID                                  \n",
       "15063505         sqft       1948.0  \n",
       "15064044          NaN       1930.0  \n",
       "\n",
       "[2 rows x 14 columns]"
      ]
     },
     "execution_count": 40,
     "metadata": {},
     "output_type": "execute_result"
    }
   ],
   "source": [
    "df.iloc[ [1,3] ]"
   ]
  },
  {
   "cell_type": "code",
   "execution_count": 41,
   "metadata": {
    "collapsed": false
   },
   "outputs": [
    {
     "data": {
      "text/plain": [
       "'12/11/15'"
      ]
     },
     "execution_count": 41,
     "metadata": {},
     "output_type": "execute_result"
    }
   ],
   "source": [
    "df.at[15064044, 'DateOfSale']"
   ]
  },
  {
   "cell_type": "code",
   "execution_count": 43,
   "metadata": {
    "collapsed": false
   },
   "outputs": [
    {
     "data": {
      "text/plain": [
       "'12/11/15'"
      ]
     },
     "execution_count": 43,
     "metadata": {},
     "output_type": "execute_result"
    }
   ],
   "source": [
    "df.iat[3, 3]"
   ]
  },
  {
   "cell_type": "code",
   "execution_count": 44,
   "metadata": {
    "collapsed": false
   },
   "outputs": [
    {
     "data": {
      "text/plain": [
       "ID\n",
       "15063471      False\n",
       "15063505      False\n",
       "15063609      False\n",
       "              ...  \n",
       "2128308939    False\n",
       "2131957929    False\n",
       "2136213970    False\n",
       "Name: BuiltInYear, dtype: bool"
      ]
     },
     "execution_count": 44,
     "metadata": {},
     "output_type": "execute_result"
    }
   ],
   "source": [
    "df.BuiltInYear < 1900"
   ]
  },
  {
   "cell_type": "code",
   "execution_count": 45,
   "metadata": {
    "collapsed": false
   },
   "outputs": [
    {
     "data": {
      "text/html": [
       "<div>\n",
       "<table border=\"1\" class=\"dataframe\">\n",
       "  <thead>\n",
       "    <tr style=\"text-align: right;\">\n",
       "      <th></th>\n",
       "      <th>Address</th>\n",
       "      <th>Latitude</th>\n",
       "      <th>Longitude</th>\n",
       "      <th>DateOfSale</th>\n",
       "      <th>SalePrice</th>\n",
       "      <th>...</th>\n",
       "      <th>Size</th>\n",
       "      <th>SizeUnit</th>\n",
       "      <th>LotSize</th>\n",
       "      <th>LotSizeUnit</th>\n",
       "      <th>BuiltInYear</th>\n",
       "    </tr>\n",
       "    <tr>\n",
       "      <th>ID</th>\n",
       "      <th></th>\n",
       "      <th></th>\n",
       "      <th></th>\n",
       "      <th></th>\n",
       "      <th></th>\n",
       "      <th></th>\n",
       "      <th></th>\n",
       "      <th></th>\n",
       "      <th></th>\n",
       "      <th></th>\n",
       "      <th></th>\n",
       "    </tr>\n",
       "  </thead>\n",
       "  <tbody>\n",
       "    <tr>\n",
       "      <th>15065140</th>\n",
       "      <td>1407 Montgomery St APT 2, San Francisco, CA</td>\n",
       "      <td>37802299</td>\n",
       "      <td>-122404941</td>\n",
       "      <td>1/28/16</td>\n",
       "      <td>976000.00</td>\n",
       "      <td>...</td>\n",
       "      <td>1000.0</td>\n",
       "      <td>sqft</td>\n",
       "      <td>NaN</td>\n",
       "      <td>NaN</td>\n",
       "      <td>1870.0</td>\n",
       "    </tr>\n",
       "    <tr>\n",
       "      <th>15076156</th>\n",
       "      <td>1533 Sutter St, San Francisco, CA</td>\n",
       "      <td>37786658</td>\n",
       "      <td>-122426481</td>\n",
       "      <td>11/12/15</td>\n",
       "      <td>5.53</td>\n",
       "      <td>...</td>\n",
       "      <td>7375.0</td>\n",
       "      <td>sqft</td>\n",
       "      <td>2748.0</td>\n",
       "      <td>sqft</td>\n",
       "      <td>1890.0</td>\n",
       "    </tr>\n",
       "    <tr>\n",
       "      <th>15078536</th>\n",
       "      <td>640 Steiner St, San Francisco, CA</td>\n",
       "      <td>37775399</td>\n",
       "      <td>-122432491</td>\n",
       "      <td>12/15/15</td>\n",
       "      <td>1.50</td>\n",
       "      <td>...</td>\n",
       "      <td>1593.0</td>\n",
       "      <td>sqft</td>\n",
       "      <td>NaN</td>\n",
       "      <td>NaN</td>\n",
       "      <td>1895.0</td>\n",
       "    </tr>\n",
       "    <tr>\n",
       "      <th>...</th>\n",
       "      <td>...</td>\n",
       "      <td>...</td>\n",
       "      <td>...</td>\n",
       "      <td>...</td>\n",
       "      <td>...</td>\n",
       "      <td>...</td>\n",
       "      <td>...</td>\n",
       "      <td>...</td>\n",
       "      <td>...</td>\n",
       "      <td>...</td>\n",
       "      <td>...</td>\n",
       "    </tr>\n",
       "    <tr>\n",
       "      <th>123597223</th>\n",
       "      <td>1954 Golden Gate Ave, San Francisco, CA</td>\n",
       "      <td>37778246</td>\n",
       "      <td>-122442763</td>\n",
       "      <td>11/24/15</td>\n",
       "      <td>1.10</td>\n",
       "      <td>...</td>\n",
       "      <td>1275.0</td>\n",
       "      <td>sqft</td>\n",
       "      <td>NaN</td>\n",
       "      <td>NaN</td>\n",
       "      <td>1895.0</td>\n",
       "    </tr>\n",
       "    <tr>\n",
       "      <th>123597388</th>\n",
       "      <td>667 Shotwell St # A, San Francisco, CA</td>\n",
       "      <td>37757851</td>\n",
       "      <td>-122415629</td>\n",
       "      <td>2/10/16</td>\n",
       "      <td>775000.00</td>\n",
       "      <td>...</td>\n",
       "      <td>1212.0</td>\n",
       "      <td>sqft</td>\n",
       "      <td>NaN</td>\n",
       "      <td>NaN</td>\n",
       "      <td>1890.0</td>\n",
       "    </tr>\n",
       "    <tr>\n",
       "      <th>2122992200</th>\n",
       "      <td>129 Octavia St, San Francisco, CA</td>\n",
       "      <td>37773192</td>\n",
       "      <td>-122424037</td>\n",
       "      <td>11/20/15</td>\n",
       "      <td>2.75</td>\n",
       "      <td>...</td>\n",
       "      <td>3655.0</td>\n",
       "      <td>sqft</td>\n",
       "      <td>NaN</td>\n",
       "      <td>NaN</td>\n",
       "      <td>1883.0</td>\n",
       "    </tr>\n",
       "  </tbody>\n",
       "</table>\n",
       "<p>15 rows × 14 columns</p>\n",
       "</div>"
      ],
      "text/plain": [
       "                                                Address  Latitude  Longitude  \\\n",
       "ID                                                                             \n",
       "15065140    1407 Montgomery St APT 2, San Francisco, CA  37802299 -122404941   \n",
       "15076156              1533 Sutter St, San Francisco, CA  37786658 -122426481   \n",
       "15078536              640 Steiner St, San Francisco, CA  37775399 -122432491   \n",
       "...                                                 ...       ...        ...   \n",
       "123597223       1954 Golden Gate Ave, San Francisco, CA  37778246 -122442763   \n",
       "123597388        667 Shotwell St # A, San Francisco, CA  37757851 -122415629   \n",
       "2122992200            129 Octavia St, San Francisco, CA  37773192 -122424037   \n",
       "\n",
       "           DateOfSale  SalePrice     ...         Size SizeUnit  LotSize  \\\n",
       "ID                                   ...                                  \n",
       "15065140      1/28/16  976000.00     ...       1000.0     sqft      NaN   \n",
       "15076156     11/12/15       5.53     ...       7375.0     sqft   2748.0   \n",
       "15078536     12/15/15       1.50     ...       1593.0     sqft      NaN   \n",
       "...               ...        ...     ...          ...      ...      ...   \n",
       "123597223    11/24/15       1.10     ...       1275.0     sqft      NaN   \n",
       "123597388     2/10/16  775000.00     ...       1212.0     sqft      NaN   \n",
       "2122992200   11/20/15       2.75     ...       3655.0     sqft      NaN   \n",
       "\n",
       "            LotSizeUnit  BuiltInYear  \n",
       "ID                                    \n",
       "15065140            NaN       1870.0  \n",
       "15076156           sqft       1890.0  \n",
       "15078536            NaN       1895.0  \n",
       "...                 ...          ...  \n",
       "123597223           NaN       1895.0  \n",
       "123597388           NaN       1890.0  \n",
       "2122992200          NaN       1883.0  \n",
       "\n",
       "[15 rows x 14 columns]"
      ]
     },
     "execution_count": 45,
     "metadata": {},
     "output_type": "execute_result"
    }
   ],
   "source": [
    "df[df.BuiltInYear < 1900]"
   ]
  },
  {
   "cell_type": "code",
   "execution_count": 46,
   "metadata": {
    "collapsed": false
   },
   "outputs": [
    {
     "data": {
      "text/html": [
       "<div>\n",
       "<table border=\"1\" class=\"dataframe\">\n",
       "  <thead>\n",
       "    <tr style=\"text-align: right;\">\n",
       "      <th></th>\n",
       "      <th>Address</th>\n",
       "      <th>Latitude</th>\n",
       "      <th>Longitude</th>\n",
       "      <th>DateOfSale</th>\n",
       "      <th>SalePrice</th>\n",
       "      <th>...</th>\n",
       "      <th>Size</th>\n",
       "      <th>SizeUnit</th>\n",
       "      <th>LotSize</th>\n",
       "      <th>LotSizeUnit</th>\n",
       "      <th>BuiltInYear</th>\n",
       "    </tr>\n",
       "    <tr>\n",
       "      <th>ID</th>\n",
       "      <th></th>\n",
       "      <th></th>\n",
       "      <th></th>\n",
       "      <th></th>\n",
       "      <th></th>\n",
       "      <th></th>\n",
       "      <th></th>\n",
       "      <th></th>\n",
       "      <th></th>\n",
       "      <th></th>\n",
       "      <th></th>\n",
       "    </tr>\n",
       "  </thead>\n",
       "  <tbody>\n",
       "    <tr>\n",
       "      <th>15076156</th>\n",
       "      <td>1533 Sutter St, San Francisco, CA</td>\n",
       "      <td>37786658</td>\n",
       "      <td>-122426481</td>\n",
       "      <td>11/12/15</td>\n",
       "      <td>5.53</td>\n",
       "      <td>...</td>\n",
       "      <td>7375.0</td>\n",
       "      <td>sqft</td>\n",
       "      <td>2748.0</td>\n",
       "      <td>sqft</td>\n",
       "      <td>1890.0</td>\n",
       "    </tr>\n",
       "    <tr>\n",
       "      <th>15078536</th>\n",
       "      <td>640 Steiner St, San Francisco, CA</td>\n",
       "      <td>37775399</td>\n",
       "      <td>-122432491</td>\n",
       "      <td>12/15/15</td>\n",
       "      <td>1.50</td>\n",
       "      <td>...</td>\n",
       "      <td>1593.0</td>\n",
       "      <td>sqft</td>\n",
       "      <td>NaN</td>\n",
       "      <td>NaN</td>\n",
       "      <td>1895.0</td>\n",
       "    </tr>\n",
       "    <tr>\n",
       "      <th>15078866</th>\n",
       "      <td>753-755 Oak St, San Francisco, CA</td>\n",
       "      <td>37773576</td>\n",
       "      <td>-122431663</td>\n",
       "      <td>11/10/15</td>\n",
       "      <td>375000.00</td>\n",
       "      <td>...</td>\n",
       "      <td>2430.0</td>\n",
       "      <td>sqft</td>\n",
       "      <td>3781.0</td>\n",
       "      <td>sqft</td>\n",
       "      <td>1890.0</td>\n",
       "    </tr>\n",
       "    <tr>\n",
       "      <th>...</th>\n",
       "      <td>...</td>\n",
       "      <td>...</td>\n",
       "      <td>...</td>\n",
       "      <td>...</td>\n",
       "      <td>...</td>\n",
       "      <td>...</td>\n",
       "      <td>...</td>\n",
       "      <td>...</td>\n",
       "      <td>...</td>\n",
       "      <td>...</td>\n",
       "      <td>...</td>\n",
       "    </tr>\n",
       "    <tr>\n",
       "      <th>82785514</th>\n",
       "      <td>1394 Mcallister St, San Francisco, CA</td>\n",
       "      <td>37778463</td>\n",
       "      <td>-122434933</td>\n",
       "      <td>11/13/15</td>\n",
       "      <td>2.10</td>\n",
       "      <td>...</td>\n",
       "      <td>2300.0</td>\n",
       "      <td>sqft</td>\n",
       "      <td>NaN</td>\n",
       "      <td>NaN</td>\n",
       "      <td>1890.0</td>\n",
       "    </tr>\n",
       "    <tr>\n",
       "      <th>119684777</th>\n",
       "      <td>967 Hayes St, San Francisco, CA</td>\n",
       "      <td>37775645</td>\n",
       "      <td>-122432222</td>\n",
       "      <td>12/17/15</td>\n",
       "      <td>1.95</td>\n",
       "      <td>...</td>\n",
       "      <td>3006.0</td>\n",
       "      <td>sqft</td>\n",
       "      <td>NaN</td>\n",
       "      <td>NaN</td>\n",
       "      <td>1885.0</td>\n",
       "    </tr>\n",
       "    <tr>\n",
       "      <th>2122992200</th>\n",
       "      <td>129 Octavia St, San Francisco, CA</td>\n",
       "      <td>37773192</td>\n",
       "      <td>-122424037</td>\n",
       "      <td>11/20/15</td>\n",
       "      <td>2.75</td>\n",
       "      <td>...</td>\n",
       "      <td>3655.0</td>\n",
       "      <td>sqft</td>\n",
       "      <td>NaN</td>\n",
       "      <td>NaN</td>\n",
       "      <td>1883.0</td>\n",
       "    </tr>\n",
       "  </tbody>\n",
       "</table>\n",
       "<p>9 rows × 14 columns</p>\n",
       "</div>"
      ],
      "text/plain": [
       "                                          Address  Latitude  Longitude  \\\n",
       "ID                                                                       \n",
       "15076156        1533 Sutter St, San Francisco, CA  37786658 -122426481   \n",
       "15078536        640 Steiner St, San Francisco, CA  37775399 -122432491   \n",
       "15078866        753-755 Oak St, San Francisco, CA  37773576 -122431663   \n",
       "...                                           ...       ...        ...   \n",
       "82785514    1394 Mcallister St, San Francisco, CA  37778463 -122434933   \n",
       "119684777         967 Hayes St, San Francisco, CA  37775645 -122432222   \n",
       "2122992200      129 Octavia St, San Francisco, CA  37773192 -122424037   \n",
       "\n",
       "           DateOfSale  SalePrice     ...         Size SizeUnit  LotSize  \\\n",
       "ID                                   ...                                  \n",
       "15076156     11/12/15       5.53     ...       7375.0     sqft   2748.0   \n",
       "15078536     12/15/15       1.50     ...       1593.0     sqft      NaN   \n",
       "15078866     11/10/15  375000.00     ...       2430.0     sqft   3781.0   \n",
       "...               ...        ...     ...          ...      ...      ...   \n",
       "82785514     11/13/15       2.10     ...       2300.0     sqft      NaN   \n",
       "119684777    12/17/15       1.95     ...       3006.0     sqft      NaN   \n",
       "2122992200   11/20/15       2.75     ...       3655.0     sqft      NaN   \n",
       "\n",
       "            LotSizeUnit  BuiltInYear  \n",
       "ID                                    \n",
       "15076156           sqft       1890.0  \n",
       "15078536            NaN       1895.0  \n",
       "15078866           sqft       1890.0  \n",
       "...                 ...          ...  \n",
       "82785514            NaN       1890.0  \n",
       "119684777           NaN       1885.0  \n",
       "2122992200          NaN       1883.0  \n",
       "\n",
       "[9 rows x 14 columns]"
      ]
     },
     "execution_count": 46,
     "metadata": {},
     "output_type": "execute_result"
    }
   ],
   "source": [
    "df[(df.BuiltInYear < 1900) & (df.Size > 1500)]"
   ]
  },
  {
   "cell_type": "code",
   "execution_count": 48,
   "metadata": {
    "collapsed": false
   },
   "outputs": [
    {
     "data": {
      "text/html": [
       "<div>\n",
       "<table border=\"1\" class=\"dataframe\">\n",
       "  <thead>\n",
       "    <tr style=\"text-align: right;\">\n",
       "      <th></th>\n",
       "      <th>Address</th>\n",
       "    </tr>\n",
       "    <tr>\n",
       "      <th>ID</th>\n",
       "      <th></th>\n",
       "    </tr>\n",
       "  </thead>\n",
       "  <tbody>\n",
       "    <tr>\n",
       "      <th>15076156</th>\n",
       "      <td>1533 Sutter St, San Francisco, CA</td>\n",
       "    </tr>\n",
       "    <tr>\n",
       "      <th>15078536</th>\n",
       "      <td>640 Steiner St, San Francisco, CA</td>\n",
       "    </tr>\n",
       "    <tr>\n",
       "      <th>15078866</th>\n",
       "      <td>753-755 Oak St, San Francisco, CA</td>\n",
       "    </tr>\n",
       "    <tr>\n",
       "      <th>...</th>\n",
       "      <td>...</td>\n",
       "    </tr>\n",
       "    <tr>\n",
       "      <th>82785514</th>\n",
       "      <td>1394 Mcallister St, San Francisco, CA</td>\n",
       "    </tr>\n",
       "    <tr>\n",
       "      <th>119684777</th>\n",
       "      <td>967 Hayes St, San Francisco, CA</td>\n",
       "    </tr>\n",
       "    <tr>\n",
       "      <th>2122992200</th>\n",
       "      <td>129 Octavia St, San Francisco, CA</td>\n",
       "    </tr>\n",
       "  </tbody>\n",
       "</table>\n",
       "<p>9 rows × 1 columns</p>\n",
       "</div>"
      ],
      "text/plain": [
       "                                          Address\n",
       "ID                                               \n",
       "15076156        1533 Sutter St, San Francisco, CA\n",
       "15078536        640 Steiner St, San Francisco, CA\n",
       "15078866        753-755 Oak St, San Francisco, CA\n",
       "...                                           ...\n",
       "82785514    1394 Mcallister St, San Francisco, CA\n",
       "119684777         967 Hayes St, San Francisco, CA\n",
       "2122992200      129 Octavia St, San Francisco, CA\n",
       "\n",
       "[9 rows x 1 columns]"
      ]
     },
     "execution_count": 48,
     "metadata": {},
     "output_type": "execute_result"
    }
   ],
   "source": [
    "df[(df.BuiltInYear < 1900) & (df.Size > 1500)][ ['Address'] ]"
   ]
  },
  {
   "cell_type": "code",
   "execution_count": 49,
   "metadata": {
    "collapsed": false
   },
   "outputs": [
    {
     "data": {
      "text/plain": [
       "ID\n",
       "15076156          1533 Sutter St, San Francisco, CA\n",
       "15078536          640 Steiner St, San Francisco, CA\n",
       "15078866          753-755 Oak St, San Francisco, CA\n",
       "                              ...                  \n",
       "82785514      1394 Mcallister St, San Francisco, CA\n",
       "119684777           967 Hayes St, San Francisco, CA\n",
       "2122992200        129 Octavia St, San Francisco, CA\n",
       "Name: Address, dtype: object"
      ]
     },
     "execution_count": 49,
     "metadata": {},
     "output_type": "execute_result"
    }
   ],
   "source": [
    "df[(df.BuiltInYear < 1900) & (df.Size > 1500)].Address"
   ]
  },
  {
   "cell_type": "code",
   "execution_count": 50,
   "metadata": {
    "collapsed": true
   },
   "outputs": [],
   "source": [
    "df = pd.read_csv(os.path.join('..', 'datasets', 'zillow-02-starter.csv'))"
   ]
  },
  {
   "cell_type": "code",
   "execution_count": 51,
   "metadata": {
    "collapsed": true
   },
   "outputs": [],
   "source": [
    "df.drop(['Latitude', 'Longitude'], axis = 1, inplace = True)"
   ]
  },
  {
   "cell_type": "code",
   "execution_count": 52,
   "metadata": {
    "collapsed": false
   },
   "outputs": [
    {
     "data": {
      "text/html": [
       "<div>\n",
       "<table border=\"1\" class=\"dataframe\">\n",
       "  <thead>\n",
       "    <tr style=\"text-align: right;\">\n",
       "      <th></th>\n",
       "      <th>ID</th>\n",
       "      <th>Address</th>\n",
       "      <th>DateOfSale</th>\n",
       "      <th>SalePrice</th>\n",
       "      <th>SalePriceUnit</th>\n",
       "      <th>...</th>\n",
       "      <th>Size</th>\n",
       "      <th>SizeUnit</th>\n",
       "      <th>LotSize</th>\n",
       "      <th>LotSizeUnit</th>\n",
       "      <th>BuiltInYear</th>\n",
       "    </tr>\n",
       "  </thead>\n",
       "  <tbody>\n",
       "    <tr>\n",
       "      <th>0</th>\n",
       "      <td>15063471</td>\n",
       "      <td>55 Vandewater St APT 9, San Francisco, CA</td>\n",
       "      <td>12/4/15</td>\n",
       "      <td>710000.00</td>\n",
       "      <td>$</td>\n",
       "      <td>...</td>\n",
       "      <td>550.0</td>\n",
       "      <td>sqft</td>\n",
       "      <td>NaN</td>\n",
       "      <td>NaN</td>\n",
       "      <td>1980.0</td>\n",
       "    </tr>\n",
       "    <tr>\n",
       "      <th>1</th>\n",
       "      <td>15063505</td>\n",
       "      <td>740 Francisco St, San Francisco, CA</td>\n",
       "      <td>11/30/15</td>\n",
       "      <td>2.15</td>\n",
       "      <td>$M</td>\n",
       "      <td>...</td>\n",
       "      <td>1430.0</td>\n",
       "      <td>sqft</td>\n",
       "      <td>2435.0</td>\n",
       "      <td>sqft</td>\n",
       "      <td>1948.0</td>\n",
       "    </tr>\n",
       "    <tr>\n",
       "      <th>2</th>\n",
       "      <td>15063609</td>\n",
       "      <td>819 Francisco St, San Francisco, CA</td>\n",
       "      <td>11/12/15</td>\n",
       "      <td>5.60</td>\n",
       "      <td>$M</td>\n",
       "      <td>...</td>\n",
       "      <td>2040.0</td>\n",
       "      <td>sqft</td>\n",
       "      <td>3920.0</td>\n",
       "      <td>sqft</td>\n",
       "      <td>1976.0</td>\n",
       "    </tr>\n",
       "    <tr>\n",
       "      <th>...</th>\n",
       "      <td>...</td>\n",
       "      <td>...</td>\n",
       "      <td>...</td>\n",
       "      <td>...</td>\n",
       "      <td>...</td>\n",
       "      <td>...</td>\n",
       "      <td>...</td>\n",
       "      <td>...</td>\n",
       "      <td>...</td>\n",
       "      <td>...</td>\n",
       "      <td>...</td>\n",
       "    </tr>\n",
       "    <tr>\n",
       "      <th>997</th>\n",
       "      <td>2128308939</td>\n",
       "      <td>33 Santa Cruz Ave, San Francisco, CA</td>\n",
       "      <td>12/10/15</td>\n",
       "      <td>830000.00</td>\n",
       "      <td>$</td>\n",
       "      <td>...</td>\n",
       "      <td>1738.0</td>\n",
       "      <td>sqft</td>\n",
       "      <td>2299.0</td>\n",
       "      <td>sqft</td>\n",
       "      <td>1976.0</td>\n",
       "    </tr>\n",
       "    <tr>\n",
       "      <th>998</th>\n",
       "      <td>2131957929</td>\n",
       "      <td>1821 Grant Ave, San Francisco, CA</td>\n",
       "      <td>12/15/15</td>\n",
       "      <td>835000.00</td>\n",
       "      <td>$</td>\n",
       "      <td>...</td>\n",
       "      <td>1048.0</td>\n",
       "      <td>sqft</td>\n",
       "      <td>NaN</td>\n",
       "      <td>NaN</td>\n",
       "      <td>1975.0</td>\n",
       "    </tr>\n",
       "    <tr>\n",
       "      <th>999</th>\n",
       "      <td>2136213970</td>\n",
       "      <td>1200 Gough St, San Francisco, CA</td>\n",
       "      <td>1/10/16</td>\n",
       "      <td>825000.00</td>\n",
       "      <td>$</td>\n",
       "      <td>...</td>\n",
       "      <td>900.0</td>\n",
       "      <td>sqft</td>\n",
       "      <td>NaN</td>\n",
       "      <td>NaN</td>\n",
       "      <td>1966.0</td>\n",
       "    </tr>\n",
       "  </tbody>\n",
       "</table>\n",
       "<p>1000 rows × 13 columns</p>\n",
       "</div>"
      ],
      "text/plain": [
       "             ID                                    Address DateOfSale  \\\n",
       "0      15063471  55 Vandewater St APT 9, San Francisco, CA    12/4/15   \n",
       "1      15063505        740 Francisco St, San Francisco, CA   11/30/15   \n",
       "2      15063609        819 Francisco St, San Francisco, CA   11/12/15   \n",
       "..          ...                                        ...        ...   \n",
       "997  2128308939       33 Santa Cruz Ave, San Francisco, CA   12/10/15   \n",
       "998  2131957929          1821 Grant Ave, San Francisco, CA   12/15/15   \n",
       "999  2136213970           1200 Gough St, San Francisco, CA    1/10/16   \n",
       "\n",
       "     SalePrice SalePriceUnit     ...        Size  SizeUnit  LotSize  \\\n",
       "0    710000.00             $     ...       550.0      sqft      NaN   \n",
       "1         2.15            $M     ...      1430.0      sqft   2435.0   \n",
       "2         5.60            $M     ...      2040.0      sqft   3920.0   \n",
       "..         ...           ...     ...         ...       ...      ...   \n",
       "997  830000.00             $     ...      1738.0      sqft   2299.0   \n",
       "998  835000.00             $     ...      1048.0      sqft      NaN   \n",
       "999  825000.00             $     ...       900.0      sqft      NaN   \n",
       "\n",
       "     LotSizeUnit BuiltInYear  \n",
       "0            NaN      1980.0  \n",
       "1           sqft      1948.0  \n",
       "2           sqft      1976.0  \n",
       "..           ...         ...  \n",
       "997         sqft      1976.0  \n",
       "998          NaN      1975.0  \n",
       "999          NaN      1966.0  \n",
       "\n",
       "[1000 rows x 13 columns]"
      ]
     },
     "execution_count": 52,
     "metadata": {},
     "output_type": "execute_result"
    }
   ],
   "source": [
    "df"
   ]
  },
  {
   "cell_type": "code",
   "execution_count": 53,
   "metadata": {
    "collapsed": false
   },
   "outputs": [
    {
     "data": {
      "text/plain": [
       "array(['$', '$M'], dtype=object)"
      ]
     },
     "execution_count": 53,
     "metadata": {},
     "output_type": "execute_result"
    }
   ],
   "source": [
    "df.SalePriceUnit.unique()"
   ]
  },
  {
   "cell_type": "code",
   "execution_count": 55,
   "metadata": {
    "collapsed": false
   },
   "outputs": [],
   "source": [
    "df_1 = df[df.SalePriceUnit == '$']\n",
    "\n",
    "df_1 = df_1.drop('SalePriceUnit', axis = 1)\n",
    "\n",
    "df_6 = df[df.SalePriceUnit == '$M']\n",
    "\n",
    "df_6 = df_6.drop('SalePriceUnit', axis = 1)\n",
    "\n",
    "df_6.SalePrice = df_6.SalePrice * (10 ** 6)\n",
    "\n",
    "df = pd.concat([df_1, df_6])"
   ]
  },
  {
   "cell_type": "code",
   "execution_count": 56,
   "metadata": {
    "collapsed": false
   },
   "outputs": [
    {
     "data": {
      "text/html": [
       "<div>\n",
       "<table border=\"1\" class=\"dataframe\">\n",
       "  <thead>\n",
       "    <tr style=\"text-align: right;\">\n",
       "      <th></th>\n",
       "      <th>ID</th>\n",
       "      <th>Address</th>\n",
       "      <th>DateOfSale</th>\n",
       "      <th>SalePrice</th>\n",
       "      <th>IsAStudio</th>\n",
       "      <th>...</th>\n",
       "      <th>Size</th>\n",
       "      <th>SizeUnit</th>\n",
       "      <th>LotSize</th>\n",
       "      <th>LotSizeUnit</th>\n",
       "      <th>BuiltInYear</th>\n",
       "    </tr>\n",
       "  </thead>\n",
       "  <tbody>\n",
       "    <tr>\n",
       "      <th>0</th>\n",
       "      <td>15063471</td>\n",
       "      <td>55 Vandewater St APT 9, San Francisco, CA</td>\n",
       "      <td>12/4/15</td>\n",
       "      <td>710000.0</td>\n",
       "      <td>False</td>\n",
       "      <td>...</td>\n",
       "      <td>550.0</td>\n",
       "      <td>sqft</td>\n",
       "      <td>NaN</td>\n",
       "      <td>NaN</td>\n",
       "      <td>1980.0</td>\n",
       "    </tr>\n",
       "    <tr>\n",
       "      <th>1</th>\n",
       "      <td>15063505</td>\n",
       "      <td>740 Francisco St, San Francisco, CA</td>\n",
       "      <td>11/30/15</td>\n",
       "      <td>2150000.0</td>\n",
       "      <td>False</td>\n",
       "      <td>...</td>\n",
       "      <td>1430.0</td>\n",
       "      <td>sqft</td>\n",
       "      <td>2435.0</td>\n",
       "      <td>sqft</td>\n",
       "      <td>1948.0</td>\n",
       "    </tr>\n",
       "    <tr>\n",
       "      <th>2</th>\n",
       "      <td>15063609</td>\n",
       "      <td>819 Francisco St, San Francisco, CA</td>\n",
       "      <td>11/12/15</td>\n",
       "      <td>5600000.0</td>\n",
       "      <td>False</td>\n",
       "      <td>...</td>\n",
       "      <td>2040.0</td>\n",
       "      <td>sqft</td>\n",
       "      <td>3920.0</td>\n",
       "      <td>sqft</td>\n",
       "      <td>1976.0</td>\n",
       "    </tr>\n",
       "    <tr>\n",
       "      <th>...</th>\n",
       "      <td>...</td>\n",
       "      <td>...</td>\n",
       "      <td>...</td>\n",
       "      <td>...</td>\n",
       "      <td>...</td>\n",
       "      <td>...</td>\n",
       "      <td>...</td>\n",
       "      <td>...</td>\n",
       "      <td>...</td>\n",
       "      <td>...</td>\n",
       "      <td>...</td>\n",
       "    </tr>\n",
       "    <tr>\n",
       "      <th>997</th>\n",
       "      <td>2128308939</td>\n",
       "      <td>33 Santa Cruz Ave, San Francisco, CA</td>\n",
       "      <td>12/10/15</td>\n",
       "      <td>830000.0</td>\n",
       "      <td>False</td>\n",
       "      <td>...</td>\n",
       "      <td>1738.0</td>\n",
       "      <td>sqft</td>\n",
       "      <td>2299.0</td>\n",
       "      <td>sqft</td>\n",
       "      <td>1976.0</td>\n",
       "    </tr>\n",
       "    <tr>\n",
       "      <th>998</th>\n",
       "      <td>2131957929</td>\n",
       "      <td>1821 Grant Ave, San Francisco, CA</td>\n",
       "      <td>12/15/15</td>\n",
       "      <td>835000.0</td>\n",
       "      <td>False</td>\n",
       "      <td>...</td>\n",
       "      <td>1048.0</td>\n",
       "      <td>sqft</td>\n",
       "      <td>NaN</td>\n",
       "      <td>NaN</td>\n",
       "      <td>1975.0</td>\n",
       "    </tr>\n",
       "    <tr>\n",
       "      <th>999</th>\n",
       "      <td>2136213970</td>\n",
       "      <td>1200 Gough St, San Francisco, CA</td>\n",
       "      <td>1/10/16</td>\n",
       "      <td>825000.0</td>\n",
       "      <td>False</td>\n",
       "      <td>...</td>\n",
       "      <td>900.0</td>\n",
       "      <td>sqft</td>\n",
       "      <td>NaN</td>\n",
       "      <td>NaN</td>\n",
       "      <td>1966.0</td>\n",
       "    </tr>\n",
       "  </tbody>\n",
       "</table>\n",
       "<p>1000 rows × 12 columns</p>\n",
       "</div>"
      ],
      "text/plain": [
       "             ID                                    Address DateOfSale  \\\n",
       "0      15063471  55 Vandewater St APT 9, San Francisco, CA    12/4/15   \n",
       "1      15063505        740 Francisco St, San Francisco, CA   11/30/15   \n",
       "2      15063609        819 Francisco St, San Francisco, CA   11/12/15   \n",
       "..          ...                                        ...        ...   \n",
       "997  2128308939       33 Santa Cruz Ave, San Francisco, CA   12/10/15   \n",
       "998  2131957929          1821 Grant Ave, San Francisco, CA   12/15/15   \n",
       "999  2136213970           1200 Gough St, San Francisco, CA    1/10/16   \n",
       "\n",
       "     SalePrice IsAStudio     ...         Size  SizeUnit  LotSize LotSizeUnit  \\\n",
       "0     710000.0     False     ...        550.0      sqft      NaN         NaN   \n",
       "1    2150000.0     False     ...       1430.0      sqft   2435.0        sqft   \n",
       "2    5600000.0     False     ...       2040.0      sqft   3920.0        sqft   \n",
       "..         ...       ...     ...          ...       ...      ...         ...   \n",
       "997   830000.0     False     ...       1738.0      sqft   2299.0        sqft   \n",
       "998   835000.0     False     ...       1048.0      sqft      NaN         NaN   \n",
       "999   825000.0     False     ...        900.0      sqft      NaN         NaN   \n",
       "\n",
       "     BuiltInYear  \n",
       "0         1980.0  \n",
       "1         1948.0  \n",
       "2         1976.0  \n",
       "..           ...  \n",
       "997       1976.0  \n",
       "998       1975.0  \n",
       "999       1966.0  \n",
       "\n",
       "[1000 rows x 12 columns]"
      ]
     },
     "execution_count": 56,
     "metadata": {},
     "output_type": "execute_result"
    }
   ],
   "source": [
    "df.sort_index()"
   ]
  },
  {
   "cell_type": "code",
   "execution_count": 57,
   "metadata": {
    "collapsed": true
   },
   "outputs": [],
   "source": [
    "df.IsAStudio = 1 * df.IsAStudio"
   ]
  },
  {
   "cell_type": "code",
   "execution_count": 58,
   "metadata": {
    "collapsed": false
   },
   "outputs": [
    {
     "data": {
      "text/html": [
       "<div>\n",
       "<table border=\"1\" class=\"dataframe\">\n",
       "  <thead>\n",
       "    <tr style=\"text-align: right;\">\n",
       "      <th></th>\n",
       "      <th>ID</th>\n",
       "      <th>Address</th>\n",
       "      <th>DateOfSale</th>\n",
       "      <th>SalePrice</th>\n",
       "      <th>IsAStudio</th>\n",
       "      <th>...</th>\n",
       "      <th>Size</th>\n",
       "      <th>SizeUnit</th>\n",
       "      <th>LotSize</th>\n",
       "      <th>LotSizeUnit</th>\n",
       "      <th>BuiltInYear</th>\n",
       "    </tr>\n",
       "  </thead>\n",
       "  <tbody>\n",
       "    <tr>\n",
       "      <th>0</th>\n",
       "      <td>15063471</td>\n",
       "      <td>55 Vandewater St APT 9, San Francisco, CA</td>\n",
       "      <td>12/4/15</td>\n",
       "      <td>710000.0</td>\n",
       "      <td>0</td>\n",
       "      <td>...</td>\n",
       "      <td>550.0</td>\n",
       "      <td>sqft</td>\n",
       "      <td>NaN</td>\n",
       "      <td>NaN</td>\n",
       "      <td>1980.0</td>\n",
       "    </tr>\n",
       "    <tr>\n",
       "      <th>4</th>\n",
       "      <td>15064257</td>\n",
       "      <td>111 Chestnut St APT 403, San Francisco, CA</td>\n",
       "      <td>1/15/16</td>\n",
       "      <td>970000.0</td>\n",
       "      <td>0</td>\n",
       "      <td>...</td>\n",
       "      <td>1299.0</td>\n",
       "      <td>sqft</td>\n",
       "      <td>NaN</td>\n",
       "      <td>NaN</td>\n",
       "      <td>1993.0</td>\n",
       "    </tr>\n",
       "    <tr>\n",
       "      <th>5</th>\n",
       "      <td>15064295</td>\n",
       "      <td>111 Chestnut St APT 702, San Francisco, CA</td>\n",
       "      <td>12/17/15</td>\n",
       "      <td>940000.0</td>\n",
       "      <td>0</td>\n",
       "      <td>...</td>\n",
       "      <td>1033.0</td>\n",
       "      <td>sqft</td>\n",
       "      <td>NaN</td>\n",
       "      <td>NaN</td>\n",
       "      <td>1993.0</td>\n",
       "    </tr>\n",
       "    <tr>\n",
       "      <th>...</th>\n",
       "      <td>...</td>\n",
       "      <td>...</td>\n",
       "      <td>...</td>\n",
       "      <td>...</td>\n",
       "      <td>...</td>\n",
       "      <td>...</td>\n",
       "      <td>...</td>\n",
       "      <td>...</td>\n",
       "      <td>...</td>\n",
       "      <td>...</td>\n",
       "      <td>...</td>\n",
       "    </tr>\n",
       "    <tr>\n",
       "      <th>990</th>\n",
       "      <td>2108546010</td>\n",
       "      <td>1738 Lombard St APT 4, San Francisco, CA</td>\n",
       "      <td>1/14/16</td>\n",
       "      <td>1400000.0</td>\n",
       "      <td>0</td>\n",
       "      <td>...</td>\n",
       "      <td>NaN</td>\n",
       "      <td>NaN</td>\n",
       "      <td>NaN</td>\n",
       "      <td>NaN</td>\n",
       "      <td>2004.0</td>\n",
       "    </tr>\n",
       "    <tr>\n",
       "      <th>992</th>\n",
       "      <td>2121221385</td>\n",
       "      <td>925 Larkin St, San Francisco, CA</td>\n",
       "      <td>11/30/15</td>\n",
       "      <td>1430000.0</td>\n",
       "      <td>0</td>\n",
       "      <td>...</td>\n",
       "      <td>6600.0</td>\n",
       "      <td>sqft</td>\n",
       "      <td>NaN</td>\n",
       "      <td>NaN</td>\n",
       "      <td>1907.0</td>\n",
       "    </tr>\n",
       "    <tr>\n",
       "      <th>994</th>\n",
       "      <td>2122992200</td>\n",
       "      <td>129 Octavia St, San Francisco, CA</td>\n",
       "      <td>11/20/15</td>\n",
       "      <td>2750000.0</td>\n",
       "      <td>1</td>\n",
       "      <td>...</td>\n",
       "      <td>3655.0</td>\n",
       "      <td>sqft</td>\n",
       "      <td>NaN</td>\n",
       "      <td>NaN</td>\n",
       "      <td>1883.0</td>\n",
       "    </tr>\n",
       "  </tbody>\n",
       "</table>\n",
       "<p>1000 rows × 12 columns</p>\n",
       "</div>"
      ],
      "text/plain": [
       "             ID                                     Address DateOfSale  \\\n",
       "0      15063471   55 Vandewater St APT 9, San Francisco, CA    12/4/15   \n",
       "4      15064257  111 Chestnut St APT 403, San Francisco, CA    1/15/16   \n",
       "5      15064295  111 Chestnut St APT 702, San Francisco, CA   12/17/15   \n",
       "..          ...                                         ...        ...   \n",
       "990  2108546010    1738 Lombard St APT 4, San Francisco, CA    1/14/16   \n",
       "992  2121221385            925 Larkin St, San Francisco, CA   11/30/15   \n",
       "994  2122992200           129 Octavia St, San Francisco, CA   11/20/15   \n",
       "\n",
       "     SalePrice IsAStudio     ...         Size  SizeUnit  LotSize LotSizeUnit  \\\n",
       "0     710000.0         0     ...        550.0      sqft      NaN         NaN   \n",
       "4     970000.0         0     ...       1299.0      sqft      NaN         NaN   \n",
       "5     940000.0         0     ...       1033.0      sqft      NaN         NaN   \n",
       "..         ...       ...     ...          ...       ...      ...         ...   \n",
       "990  1400000.0         0     ...          NaN       NaN      NaN         NaN   \n",
       "992  1430000.0         0     ...       6600.0      sqft      NaN         NaN   \n",
       "994  2750000.0         1     ...       3655.0      sqft      NaN         NaN   \n",
       "\n",
       "     BuiltInYear  \n",
       "0         1980.0  \n",
       "4         1993.0  \n",
       "5         1993.0  \n",
       "..           ...  \n",
       "990       2004.0  \n",
       "992       1907.0  \n",
       "994       1883.0  \n",
       "\n",
       "[1000 rows x 12 columns]"
      ]
     },
     "execution_count": 58,
     "metadata": {},
     "output_type": "execute_result"
    }
   ],
   "source": [
    "df"
   ]
  },
  {
   "cell_type": "code",
   "execution_count": 59,
   "metadata": {
    "collapsed": false
   },
   "outputs": [
    {
     "data": {
      "text/plain": [
       "array(['sqft', nan], dtype=object)"
      ]
     },
     "execution_count": 59,
     "metadata": {},
     "output_type": "execute_result"
    }
   ],
   "source": [
    "df.SizeUnit.unique()"
   ]
  },
  {
   "cell_type": "code",
   "execution_count": 60,
   "metadata": {
    "collapsed": true
   },
   "outputs": [],
   "source": [
    "df.drop('SizeUnit', axis = 1, inplace = True)"
   ]
  },
  {
   "cell_type": "code",
   "execution_count": 61,
   "metadata": {
    "collapsed": false
   },
   "outputs": [
    {
     "data": {
      "text/plain": [
       "array([nan, 'sqft', 'ac'], dtype=object)"
      ]
     },
     "execution_count": 61,
     "metadata": {},
     "output_type": "execute_result"
    }
   ],
   "source": [
    "df.LotSizeUnit.unique()"
   ]
  },
  {
   "cell_type": "code",
   "execution_count": 63,
   "metadata": {
    "collapsed": false
   },
   "outputs": [
    {
     "data": {
      "text/plain": [
       "444"
      ]
     },
     "execution_count": 63,
     "metadata": {},
     "output_type": "execute_result"
    }
   ],
   "source": [
    "df_na = df[df.LotSizeUnit.isnull()]\n",
    "df_na = df_na.drop('LotSizeUnit', axis = 1)\n",
    "\n",
    "df_na.shape[0]"
   ]
  },
  {
   "cell_type": "code",
   "execution_count": 64,
   "metadata": {
    "collapsed": false
   },
   "outputs": [
    {
     "data": {
      "text/plain": [
       "552"
      ]
     },
     "execution_count": 64,
     "metadata": {},
     "output_type": "execute_result"
    }
   ],
   "source": [
    "df_sqft = df[df.LotSizeUnit == 'sqft']\n",
    "df_sqft = df_sqft.drop('LotSizeUnit', axis = 1)\n",
    "\n",
    "df_sqft.shape[0]"
   ]
  },
  {
   "cell_type": "code",
   "execution_count": 65,
   "metadata": {
    "collapsed": false
   },
   "outputs": [
    {
     "data": {
      "text/plain": [
       "4"
      ]
     },
     "execution_count": 65,
     "metadata": {},
     "output_type": "execute_result"
    }
   ],
   "source": [
    "df_ac = df[df.LotSizeUnit == 'ac']\n",
    "df_ac = df_ac.drop('LotSizeUnit', axis = 1)\n",
    "\n",
    "df_ac.shape[0]"
   ]
  },
  {
   "cell_type": "code",
   "execution_count": 66,
   "metadata": {
    "collapsed": true
   },
   "outputs": [],
   "source": [
    "df = pd.concat([df_na, df_sqft, df_ac]).sort_index()"
   ]
  },
  {
   "cell_type": "code",
   "execution_count": 67,
   "metadata": {
    "collapsed": false
   },
   "outputs": [
    {
     "data": {
      "text/html": [
       "<div>\n",
       "<table border=\"1\" class=\"dataframe\">\n",
       "  <thead>\n",
       "    <tr style=\"text-align: right;\">\n",
       "      <th></th>\n",
       "      <th>ID</th>\n",
       "      <th>Address</th>\n",
       "      <th>DateOfSale</th>\n",
       "      <th>SalePrice</th>\n",
       "      <th>IsAStudio</th>\n",
       "      <th>BedCount</th>\n",
       "      <th>BathCount</th>\n",
       "      <th>Size</th>\n",
       "      <th>LotSize</th>\n",
       "      <th>BuiltInYear</th>\n",
       "    </tr>\n",
       "  </thead>\n",
       "  <tbody>\n",
       "    <tr>\n",
       "      <th>0</th>\n",
       "      <td>15063471</td>\n",
       "      <td>55 Vandewater St APT 9, San Francisco, CA</td>\n",
       "      <td>12/4/15</td>\n",
       "      <td>710000.0</td>\n",
       "      <td>0</td>\n",
       "      <td>1.0</td>\n",
       "      <td>NaN</td>\n",
       "      <td>550.0</td>\n",
       "      <td>NaN</td>\n",
       "      <td>1980.0</td>\n",
       "    </tr>\n",
       "    <tr>\n",
       "      <th>1</th>\n",
       "      <td>15063505</td>\n",
       "      <td>740 Francisco St, San Francisco, CA</td>\n",
       "      <td>11/30/15</td>\n",
       "      <td>2150000.0</td>\n",
       "      <td>0</td>\n",
       "      <td>NaN</td>\n",
       "      <td>2.0</td>\n",
       "      <td>1430.0</td>\n",
       "      <td>2435.0</td>\n",
       "      <td>1948.0</td>\n",
       "    </tr>\n",
       "    <tr>\n",
       "      <th>2</th>\n",
       "      <td>15063609</td>\n",
       "      <td>819 Francisco St, San Francisco, CA</td>\n",
       "      <td>11/12/15</td>\n",
       "      <td>5600000.0</td>\n",
       "      <td>0</td>\n",
       "      <td>2.0</td>\n",
       "      <td>3.5</td>\n",
       "      <td>2040.0</td>\n",
       "      <td>3920.0</td>\n",
       "      <td>1976.0</td>\n",
       "    </tr>\n",
       "    <tr>\n",
       "      <th>...</th>\n",
       "      <td>...</td>\n",
       "      <td>...</td>\n",
       "      <td>...</td>\n",
       "      <td>...</td>\n",
       "      <td>...</td>\n",
       "      <td>...</td>\n",
       "      <td>...</td>\n",
       "      <td>...</td>\n",
       "      <td>...</td>\n",
       "      <td>...</td>\n",
       "    </tr>\n",
       "    <tr>\n",
       "      <th>997</th>\n",
       "      <td>2128308939</td>\n",
       "      <td>33 Santa Cruz Ave, San Francisco, CA</td>\n",
       "      <td>12/10/15</td>\n",
       "      <td>830000.0</td>\n",
       "      <td>0</td>\n",
       "      <td>3.0</td>\n",
       "      <td>3.0</td>\n",
       "      <td>1738.0</td>\n",
       "      <td>2299.0</td>\n",
       "      <td>1976.0</td>\n",
       "    </tr>\n",
       "    <tr>\n",
       "      <th>998</th>\n",
       "      <td>2131957929</td>\n",
       "      <td>1821 Grant Ave, San Francisco, CA</td>\n",
       "      <td>12/15/15</td>\n",
       "      <td>835000.0</td>\n",
       "      <td>0</td>\n",
       "      <td>2.0</td>\n",
       "      <td>2.0</td>\n",
       "      <td>1048.0</td>\n",
       "      <td>NaN</td>\n",
       "      <td>1975.0</td>\n",
       "    </tr>\n",
       "    <tr>\n",
       "      <th>999</th>\n",
       "      <td>2136213970</td>\n",
       "      <td>1200 Gough St, San Francisco, CA</td>\n",
       "      <td>1/10/16</td>\n",
       "      <td>825000.0</td>\n",
       "      <td>0</td>\n",
       "      <td>1.0</td>\n",
       "      <td>1.0</td>\n",
       "      <td>900.0</td>\n",
       "      <td>NaN</td>\n",
       "      <td>1966.0</td>\n",
       "    </tr>\n",
       "  </tbody>\n",
       "</table>\n",
       "<p>1000 rows × 10 columns</p>\n",
       "</div>"
      ],
      "text/plain": [
       "             ID                                    Address DateOfSale  \\\n",
       "0      15063471  55 Vandewater St APT 9, San Francisco, CA    12/4/15   \n",
       "1      15063505        740 Francisco St, San Francisco, CA   11/30/15   \n",
       "2      15063609        819 Francisco St, San Francisco, CA   11/12/15   \n",
       "..          ...                                        ...        ...   \n",
       "997  2128308939       33 Santa Cruz Ave, San Francisco, CA   12/10/15   \n",
       "998  2131957929          1821 Grant Ave, San Francisco, CA   12/15/15   \n",
       "999  2136213970           1200 Gough St, San Francisco, CA    1/10/16   \n",
       "\n",
       "     SalePrice IsAStudio  BedCount  BathCount    Size  LotSize  BuiltInYear  \n",
       "0     710000.0         0       1.0        NaN   550.0      NaN       1980.0  \n",
       "1    2150000.0         0       NaN        2.0  1430.0   2435.0       1948.0  \n",
       "2    5600000.0         0       2.0        3.5  2040.0   3920.0       1976.0  \n",
       "..         ...       ...       ...        ...     ...      ...          ...  \n",
       "997   830000.0         0       3.0        3.0  1738.0   2299.0       1976.0  \n",
       "998   835000.0         0       2.0        2.0  1048.0      NaN       1975.0  \n",
       "999   825000.0         0       1.0        1.0   900.0      NaN       1966.0  \n",
       "\n",
       "[1000 rows x 10 columns]"
      ]
     },
     "execution_count": 67,
     "metadata": {},
     "output_type": "execute_result"
    }
   ],
   "source": [
    "df"
   ]
  },
  {
   "cell_type": "code",
   "execution_count": 69,
   "metadata": {
    "collapsed": true
   },
   "outputs": [],
   "source": [
    "df.to_csv(os.path.join('..', 'datasets', 'zillow-02.csv'), index_label = 'ID' )"
   ]
  },
  {
   "cell_type": "code",
   "execution_count": null,
   "metadata": {
    "collapsed": true
   },
   "outputs": [],
   "source": []
  }
 ],
 "metadata": {
  "kernelspec": {
   "display_name": "Python [Root]",
   "language": "python",
   "name": "Python [Root]"
  },
  "language_info": {
   "codemirror_mode": {
    "name": "ipython",
    "version": 2
   },
   "file_extension": ".py",
   "mimetype": "text/x-python",
   "name": "python",
   "nbconvert_exporter": "python",
   "pygments_lexer": "ipython2",
   "version": "2.7.12"
  }
 },
 "nbformat": 4,
 "nbformat_minor": 0
}
